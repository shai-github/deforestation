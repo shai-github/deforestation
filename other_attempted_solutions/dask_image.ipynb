{
 "cells": [
  {
   "cell_type": "code",
   "execution_count": 3,
   "id": "88eb077e",
   "metadata": {},
   "outputs": [],
   "source": [
    "import dask\n",
    "import imageio\n",
    "import dask.array as da"
   ]
  },
  {
   "cell_type": "code",
   "execution_count": 30,
   "id": "9767041e",
   "metadata": {},
   "outputs": [
    {
     "name": "stdout",
     "output_type": "stream",
     "text": [
      "['h10v09_0_760.tif', 'h10v09_0_720.tif', 'h10v09_0_680.tif']\n"
     ]
    }
   ],
   "source": [
    "import os\n",
    "\n",
    "filenames = os.listdir('tif_data'+'/'+'2021')\n",
    "# filenames.remove('.DS_Store')\n",
    "print(filenames)"
   ]
  },
  {
   "cell_type": "code",
   "execution_count": 32,
   "id": "8b5d227f",
   "metadata": {},
   "outputs": [],
   "source": [
    "tif_dict = {}\n",
    "sample = imageio.imread('tif_data'+'/'+'2021/' + filenames[0])\n",
    "\n",
    "for year in os.listdir('tif_data'):\n",
    "    if year != '.DS_Store':\n",
    "        files = ['tif_data/'+year+'/'+ file for file in filenames]\n",
    "        lazy_arrays = [dask.delayed(imageio.imread)(fn) for fn in files]\n",
    "        lazy_arrays = [da.from_delayed(x, shape=sample.shape, dtype=sample.dtype) for x in lazy_arrays]\n",
    "        tif_dict[year] = lazy_arrays"
   ]
  },
  {
   "cell_type": "code",
   "execution_count": 33,
   "id": "93beb838",
   "metadata": {},
   "outputs": [
    {
     "data": {
      "text/plain": [
       "{'2021': [dask.array<from-value, shape=(40, 40), dtype=int32, chunksize=(40, 40), chunktype=numpy.ndarray>,\n",
       "  dask.array<from-value, shape=(40, 40), dtype=int32, chunksize=(40, 40), chunktype=numpy.ndarray>,\n",
       "  dask.array<from-value, shape=(40, 40), dtype=int32, chunksize=(40, 40), chunktype=numpy.ndarray>],\n",
       " '2020': [dask.array<from-value, shape=(40, 40), dtype=int32, chunksize=(40, 40), chunktype=numpy.ndarray>,\n",
       "  dask.array<from-value, shape=(40, 40), dtype=int32, chunksize=(40, 40), chunktype=numpy.ndarray>,\n",
       "  dask.array<from-value, shape=(40, 40), dtype=int32, chunksize=(40, 40), chunktype=numpy.ndarray>]}"
      ]
     },
     "execution_count": 33,
     "metadata": {},
     "output_type": "execute_result"
    }
   ],
   "source": [
    "tif_dict"
   ]
  },
  {
   "cell_type": "code",
   "execution_count": 34,
   "id": "dc836aa2",
   "metadata": {},
   "outputs": [
    {
     "data": {
      "text/html": [
       "<table>\n",
       "    <tr>\n",
       "        <td>\n",
       "            <table>\n",
       "                <thead>\n",
       "                    <tr>\n",
       "                        <td> </td>\n",
       "                        <th> Array </th>\n",
       "                        <th> Chunk </th>\n",
       "                    </tr>\n",
       "                </thead>\n",
       "                <tbody>\n",
       "                    \n",
       "                    <tr>\n",
       "                        <th> Bytes </th>\n",
       "                        <td> 6.25 kiB </td>\n",
       "                        <td> 6.25 kiB </td>\n",
       "                    </tr>\n",
       "                    \n",
       "                    <tr>\n",
       "                        <th> Shape </th>\n",
       "                        <td> (40, 40) </td>\n",
       "                        <td> (40, 40) </td>\n",
       "                    </tr>\n",
       "                    <tr>\n",
       "                        <th> Count </th>\n",
       "                        <td> 2 Tasks </td>\n",
       "                        <td> 1 Chunks </td>\n",
       "                    </tr>\n",
       "                    <tr>\n",
       "                    <th> Type </th>\n",
       "                    <td> int32 </td>\n",
       "                    <td> numpy.ndarray </td>\n",
       "                    </tr>\n",
       "                </tbody>\n",
       "            </table>\n",
       "        </td>\n",
       "        <td>\n",
       "        <svg width=\"170\" height=\"170\" style=\"stroke:rgb(0,0,0);stroke-width:1\" >\n",
       "\n",
       "  <!-- Horizontal lines -->\n",
       "  <line x1=\"0\" y1=\"0\" x2=\"120\" y2=\"0\" style=\"stroke-width:2\" />\n",
       "  <line x1=\"0\" y1=\"120\" x2=\"120\" y2=\"120\" style=\"stroke-width:2\" />\n",
       "\n",
       "  <!-- Vertical lines -->\n",
       "  <line x1=\"0\" y1=\"0\" x2=\"0\" y2=\"120\" style=\"stroke-width:2\" />\n",
       "  <line x1=\"120\" y1=\"0\" x2=\"120\" y2=\"120\" style=\"stroke-width:2\" />\n",
       "\n",
       "  <!-- Colored Rectangle -->\n",
       "  <polygon points=\"0.0,0.0 120.0,0.0 120.0,120.0 0.0,120.0\" style=\"fill:#ECB172A0;stroke-width:0\"/>\n",
       "\n",
       "  <!-- Text -->\n",
       "  <text x=\"60.000000\" y=\"140.000000\" font-size=\"1.0rem\" font-weight=\"100\" text-anchor=\"middle\" >40</text>\n",
       "  <text x=\"140.000000\" y=\"60.000000\" font-size=\"1.0rem\" font-weight=\"100\" text-anchor=\"middle\" transform=\"rotate(0,140.000000,60.000000)\">40</text>\n",
       "</svg>\n",
       "        </td>\n",
       "    </tr>\n",
       "</table>"
      ],
      "text/plain": [
       "dask.array<from-value, shape=(40, 40), dtype=int32, chunksize=(40, 40), chunktype=numpy.ndarray>"
      ]
     },
     "execution_count": 34,
     "metadata": {},
     "output_type": "execute_result"
    }
   ],
   "source": [
    "tif_dict['2020'][0]"
   ]
  },
  {
   "cell_type": "code",
   "execution_count": null,
   "id": "eec4a3a7",
   "metadata": {},
   "outputs": [],
   "source": []
  }
 ],
 "metadata": {
  "kernelspec": {
   "display_name": "Python 3",
   "language": "python",
   "name": "python3"
  },
  "language_info": {
   "codemirror_mode": {
    "name": "ipython",
    "version": 3
   },
   "file_extension": ".py",
   "mimetype": "text/x-python",
   "name": "python",
   "nbconvert_exporter": "python",
   "pygments_lexer": "ipython3",
   "version": "3.8.5"
  }
 },
 "nbformat": 4,
 "nbformat_minor": 5
}

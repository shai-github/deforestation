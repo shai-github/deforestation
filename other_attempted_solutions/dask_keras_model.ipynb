{
  "nbformat": 4,
  "nbformat_minor": 0,
  "metadata": {
    "colab": {
      "name": "model.ipynb",
      "provenance": [],
      "collapsed_sections": []
    },
    "kernelspec": {
      "name": "python3",
      "display_name": "Python 3"
    },
    "language_info": {
      "name": "python"
    }
  },
  "cells": [
    {
      "cell_type": "code",
      "execution_count": 1,
      "metadata": {
        "colab": {
          "base_uri": "https://localhost:8080/"
        },
        "id": "AKSvzcq9pSKS",
        "outputId": "36ba23fd-46ee-48b0-818c-59958fedc5e7"
      },
      "outputs": [
        {
          "output_type": "stream",
          "name": "stdout",
          "text": [
            "Drive already mounted at /content/gdrive; to attempt to forcibly remount, call drive.mount(\"/content/gdrive\", force_remount=True).\n"
          ]
        }
      ],
      "source": [
        "from google.colab import drive\n",
        "drive.mount('/content/gdrive')"
      ]
    },
    {
      "cell_type": "code",
      "source": [
        "!pip install scikeras\n",
        "!pip install --upgrade dask dask_ml distributed"
      ],
      "metadata": {
        "colab": {
          "base_uri": "https://localhost:8080/"
        },
        "id": "9J5WWlQvNZSZ",
        "outputId": "72c3ea34-2e52-43d2-daf6-d41ec7b7e421"
      },
      "execution_count": null,
      "outputs": [
        {
          "output_type": "stream",
          "name": "stdout",
          "text": [
            "Requirement already satisfied: scikeras in /usr/local/lib/python3.7/dist-packages (0.8.0)\n",
            "Requirement already satisfied: scikit-learn>=1.0.0 in /usr/local/lib/python3.7/dist-packages (from scikeras) (1.0.2)\n",
            "Requirement already satisfied: importlib-metadata>=3 in /usr/local/lib/python3.7/dist-packages (from scikeras) (4.11.3)\n",
            "Requirement already satisfied: packaging<22.0,>=0.21 in /usr/local/lib/python3.7/dist-packages (from scikeras) (21.3)\n",
            "Requirement already satisfied: zipp>=0.5 in /usr/local/lib/python3.7/dist-packages (from importlib-metadata>=3->scikeras) (3.8.0)\n",
            "Requirement already satisfied: typing-extensions>=3.6.4 in /usr/local/lib/python3.7/dist-packages (from importlib-metadata>=3->scikeras) (4.2.0)\n",
            "Requirement already satisfied: pyparsing!=3.0.5,>=2.0.2 in /usr/local/lib/python3.7/dist-packages (from packaging<22.0,>=0.21->scikeras) (3.0.9)\n",
            "Requirement already satisfied: joblib>=0.11 in /usr/local/lib/python3.7/dist-packages (from scikit-learn>=1.0.0->scikeras) (1.1.0)\n",
            "Requirement already satisfied: numpy>=1.14.6 in /usr/local/lib/python3.7/dist-packages (from scikit-learn>=1.0.0->scikeras) (1.21.6)\n",
            "Requirement already satisfied: threadpoolctl>=2.0.0 in /usr/local/lib/python3.7/dist-packages (from scikit-learn>=1.0.0->scikeras) (3.1.0)\n",
            "Requirement already satisfied: scipy>=1.1.0 in /usr/local/lib/python3.7/dist-packages (from scikit-learn>=1.0.0->scikeras) (1.4.1)\n",
            "Requirement already satisfied: dask in /usr/local/lib/python3.7/dist-packages (2022.2.0)\n",
            "Requirement already satisfied: dask_ml in /usr/local/lib/python3.7/dist-packages (2022.1.22)\n",
            "Requirement already satisfied: distributed in /usr/local/lib/python3.7/dist-packages (2022.2.0)\n",
            "Requirement already satisfied: packaging>=20.0 in /usr/local/lib/python3.7/dist-packages (from dask) (21.3)\n",
            "Requirement already satisfied: toolz>=0.8.2 in /usr/local/lib/python3.7/dist-packages (from dask) (0.11.2)\n",
            "Requirement already satisfied: cloudpickle>=1.1.1 in /usr/local/lib/python3.7/dist-packages (from dask) (2.1.0)\n",
            "Requirement already satisfied: fsspec>=0.6.0 in /usr/local/lib/python3.7/dist-packages (from dask) (2022.5.0)\n",
            "Requirement already satisfied: partd>=0.3.10 in /usr/local/lib/python3.7/dist-packages (from dask) (1.2.0)\n",
            "Requirement already satisfied: pyyaml>=5.3.1 in /usr/local/lib/python3.7/dist-packages (from dask) (6.0)\n",
            "Requirement already satisfied: pyparsing!=3.0.5,>=2.0.2 in /usr/local/lib/python3.7/dist-packages (from packaging>=20.0->dask) (3.0.9)\n",
            "Requirement already satisfied: locket in /usr/local/lib/python3.7/dist-packages (from partd>=0.3.10->dask) (1.0.0)\n",
            "Requirement already satisfied: numpy>=1.20.0 in /usr/local/lib/python3.7/dist-packages (from dask_ml) (1.21.6)\n",
            "Requirement already satisfied: numba>=0.51.0 in /usr/local/lib/python3.7/dist-packages (from dask_ml) (0.51.2)\n",
            "Requirement already satisfied: scipy in /usr/local/lib/python3.7/dist-packages (from dask_ml) (1.4.1)\n",
            "Requirement already satisfied: multipledispatch>=0.4.9 in /usr/local/lib/python3.7/dist-packages (from dask_ml) (0.6.0)\n",
            "Requirement already satisfied: scikit-learn>=1.0.0 in /usr/local/lib/python3.7/dist-packages (from dask_ml) (1.0.2)\n",
            "Requirement already satisfied: dask-glm>=0.2.0 in /usr/local/lib/python3.7/dist-packages (from dask_ml) (0.2.0)\n",
            "Requirement already satisfied: pandas>=0.24.2 in /usr/local/lib/python3.7/dist-packages (from dask_ml) (1.3.5)\n",
            "Requirement already satisfied: zict>=0.1.3 in /usr/local/lib/python3.7/dist-packages (from distributed) (2.2.0)\n",
            "Requirement already satisfied: psutil>=5.0 in /usr/local/lib/python3.7/dist-packages (from distributed) (5.4.8)\n",
            "Requirement already satisfied: setuptools in /usr/local/lib/python3.7/dist-packages (from distributed) (57.4.0)\n",
            "Requirement already satisfied: tblib>=1.6.0 in /usr/local/lib/python3.7/dist-packages (from distributed) (1.7.0)\n",
            "Requirement already satisfied: click>=6.6 in /usr/local/lib/python3.7/dist-packages (from distributed) (7.1.2)\n",
            "Requirement already satisfied: msgpack>=0.6.0 in /usr/local/lib/python3.7/dist-packages (from distributed) (1.0.3)\n",
            "Requirement already satisfied: jinja2 in /usr/local/lib/python3.7/dist-packages (from distributed) (2.11.3)\n",
            "Requirement already satisfied: sortedcontainers!=2.0.0,!=2.0.1 in /usr/local/lib/python3.7/dist-packages (from distributed) (2.4.0)\n",
            "Requirement already satisfied: tornado>=5 in /usr/local/lib/python3.7/dist-packages (from distributed) (5.1.1)\n",
            "Requirement already satisfied: six in /usr/local/lib/python3.7/dist-packages (from multipledispatch>=0.4.9->dask_ml) (1.15.0)\n",
            "Requirement already satisfied: llvmlite<0.35,>=0.34.0.dev0 in /usr/local/lib/python3.7/dist-packages (from numba>=0.51.0->dask_ml) (0.34.0)\n",
            "Requirement already satisfied: python-dateutil>=2.7.3 in /usr/local/lib/python3.7/dist-packages (from pandas>=0.24.2->dask_ml) (2.8.2)\n",
            "Requirement already satisfied: pytz>=2017.3 in /usr/local/lib/python3.7/dist-packages (from pandas>=0.24.2->dask_ml) (2022.1)\n",
            "Requirement already satisfied: joblib>=0.11 in /usr/local/lib/python3.7/dist-packages (from scikit-learn>=1.0.0->dask_ml) (1.1.0)\n",
            "Requirement already satisfied: threadpoolctl>=2.0.0 in /usr/local/lib/python3.7/dist-packages (from scikit-learn>=1.0.0->dask_ml) (3.1.0)\n",
            "Requirement already satisfied: heapdict in /usr/local/lib/python3.7/dist-packages (from zict>=0.1.3->distributed) (1.0.1)\n",
            "Requirement already satisfied: MarkupSafe>=0.23 in /usr/local/lib/python3.7/dist-packages (from jinja2->distributed) (2.0.1)\n"
          ]
        }
      ]
    },
    {
      "cell_type": "code",
      "source": [
        "import os\n",
        "import imageio\n",
        "import distributed\n",
        "\n",
        "import matplotlib.pyplot as plt\n",
        "from matplotlib.patches import Patch\n",
        "\n",
        "from tensorflow import keras\n",
        "from tensorflow.keras import layers\n",
        "\n",
        "import dask\n",
        "import dask.array as da\n",
        "from dask.distributed import Client\n",
        "\n",
        "# Initialize the Dask client\n",
        "client = Client()"
      ],
      "metadata": {
        "id": "vn3gsUXxpbvr"
      },
      "execution_count": 4,
      "outputs": []
    },
    {
      "cell_type": "code",
      "source": [
        "# Read in data\n",
        "\n",
        "tif_lst = os.listdir('/content/gdrive/MyDrive/tif_data/2021')\n",
        "\n",
        "array_lst = []\n",
        "for year in os.listdir('/content/gdrive/MyDrive/tif_data'):\n",
        "    if year != '.DS_Store':\n",
        "        lazy_raster_lst = [dask.delayed(imageio.imread)('/content/gdrive/MyDrive/tif_data/' + year + '/' + tif) for tif in tif_lst]\n",
        "        raster_lst = [da.from_delayed(lazy_raster, shape=(40,40), dtype='int32') for lazy_raster in lazy_raster_lst]\n",
        "        raster_array = da.stack(raster_lst, axis=0)\n",
        "        array_lst.append(raster_array)\n",
        "    raw_dataset = da.stack(array_lst, axis=1)"
      ],
      "metadata": {
        "id": "LwisBqCapjhd"
      },
      "execution_count": 5,
      "outputs": []
    },
    {
      "cell_type": "code",
      "source": [
        "# One-hot encode the data\n",
        "\n",
        "# This expands the number of channels for each raster from one to three\n",
        "\n",
        "# The first channel is equal to 1 if data is missing, 0 otherwise\n",
        "# The second channel is equal to 1 if no deforestation occurred, 0 otherwise\n",
        "# The third channel is equal to 1 if deforestation occurred, 0 otherwise\n",
        "\n",
        "dataset = (da.array([-1, 0, 1]) == da.stack([raw_dataset], axis=-1)).astype('int32')"
      ],
      "metadata": {
        "id": "AaEoxTalyckk"
      },
      "execution_count": 6,
      "outputs": []
    },
    {
      "cell_type": "code",
      "source": [
        "# Get the size of the dataset\n",
        "\n",
        "print('Dataset size:', dataset.shape)\n",
        "\n",
        "num_samples = dataset.shape[0]\n",
        "print('Number of rasters per year:', num_samples)\n",
        "\n",
        "num_frames = dataset.shape[1]\n",
        "print('Number of years:', num_frames)\n",
        "\n",
        "raster_size = dataset.shape[2:]\n",
        "print('Raster size:', raster_size)"
      ],
      "metadata": {
        "colab": {
          "base_uri": "https://localhost:8080/"
        },
        "id": "Ss9lWuOhLgVU",
        "outputId": "1e25d8ab-9ecf-43c3-dd76-73ace5c5fa02"
      },
      "execution_count": 7,
      "outputs": [
        {
          "output_type": "stream",
          "name": "stdout",
          "text": [
            "Dataset size: (20, 18, 40, 40, 3)\n",
            "Number of rasters per year: 20\n",
            "Number of years: 18\n",
            "Raster size: (40, 40, 3)\n"
          ]
        }
      ]
    },
    {
      "cell_type": "code",
      "source": [
        "# Split into train and test sets (use indexing to optimize memory)\n",
        "train_prop = 0.9\n",
        "sample_indices = da.arange(dataset.shape[0])\n",
        "da.random.seed(123)\n",
        "da.random.permutation(sample_indices)\n",
        "train_indices = sample_indices[:int(train_prop * dataset.shape[0])]\n",
        "test_indices = sample_indices[int(train_prop * dataset.shape[0]):]\n",
        "train_dataset = dataset[train_indices]\n",
        "test_dataset = dataset[test_indices]"
      ],
      "metadata": {
        "id": "3ai8YMMApwzO"
      },
      "execution_count": 8,
      "outputs": []
    },
    {
      "cell_type": "code",
      "source": [
        "# Extract features and outcome variable\n",
        "# x is frames 0 to n-1, and y is frames 1 to n\n",
        "\n",
        "def split_x_y(data):\n",
        "    x = data[:, 0:data.shape[1]-1, :, :]\n",
        "    y = data[:, 1:data.shape[1], :, :]\n",
        "    return x, y\n",
        "\n",
        "x_train, y_train = split_x_y(train_dataset)\n",
        "x_test, y_test = split_x_y(test_dataset)"
      ],
      "metadata": {
        "id": "uNyqzqWmLsZf"
      },
      "execution_count": 9,
      "outputs": []
    },
    {
      "cell_type": "code",
      "source": [
        "# Get the size of the training and test sets\n",
        "\n",
        "print(\"Training Feature Shape: \" + str(x_train.shape) + \n",
        "      \", Training Outcome Shape: \" + str(y_train.shape))\n",
        "print(\"Testing Feature Shape: \" + str(x_test.shape) + \n",
        "      \", Testing Outcome Shape: \" + str(y_test.shape))"
      ],
      "metadata": {
        "colab": {
          "base_uri": "https://localhost:8080/"
        },
        "id": "RHCAdhMfqYoJ",
        "outputId": "eda87cb2-1adb-44ca-cfb5-a9b673c0b459"
      },
      "execution_count": 10,
      "outputs": [
        {
          "output_type": "stream",
          "name": "stdout",
          "text": [
            "Training Feature Shape: (18, 17, 40, 40, 3), Training Outcome Shape: (18, 17, 40, 40, 3)\n",
            "Testing Feature Shape: (2, 17, 40, 40, 3), Testing Outcome Shape: (2, 17, 40, 40, 3)\n"
          ]
        }
      ]
    },
    {
      "cell_type": "code",
      "source": [
        "# Define hyperparameters (we can cross-validate these later)\n",
        "\n",
        "epochs = 50\n",
        "batch_size = 8\n",
        "num_filters = 64"
      ],
      "metadata": {
        "id": "HOcbCmzlqc9l"
      },
      "execution_count": 12,
      "outputs": []
    },
    {
      "cell_type": "code",
      "source": [
        "# Define the CNN-LSTM architecture\n",
        "\n",
        "inp = layers.Input(shape=(None, *x_train.shape[2:]))\n",
        "\n",
        "# Construct three ConvLSTM2D layers with batch norm,\n",
        "# followed by a Conv3D layer so that the output is\n",
        "# the same shape as the original raster\n",
        "x = layers.ConvLSTM2D(filters=num_filters,\n",
        "                      kernel_size=(5, 5),\n",
        "                      padding=\"same\",\n",
        "                      return_sequences=True,\n",
        "                      activation=\"relu\",)(inp)\n",
        "x = layers.BatchNormalization()(x)\n",
        "x = layers.ConvLSTM2D(filters=num_filters,\n",
        "                      kernel_size=(3, 3),\n",
        "                      padding=\"same\",\n",
        "                      return_sequences=True,\n",
        "                      activation=\"relu\",)(x)\n",
        "x = layers.BatchNormalization()(x)\n",
        "x = layers.ConvLSTM2D(filters=num_filters,\n",
        "                      kernel_size=(1, 1),\n",
        "                      padding=\"same\",\n",
        "                      return_sequences=True,\n",
        "                      activation=\"relu\",)(x)\n",
        "x = layers.Conv3D(filters=3, \n",
        "                  kernel_size=(3, 3, 3), \n",
        "                  activation=\"softmax\", \n",
        "                  padding=\"same\")(x)\n",
        "\n",
        "# Build and compile the model\n",
        "model = keras.models.Model(inp, x)\n",
        "model.compile(loss=keras.losses.binary_crossentropy,\n",
        "              optimizer=keras.optimizers.Adam())"
      ],
      "metadata": {
        "id": "T2vLnrTnB5Mk"
      },
      "execution_count": 13,
      "outputs": []
    },
    {
      "cell_type": "code",
      "source": [
        "# Train the model\n",
        "\n",
        "# Define callbacks to improve training\n",
        "early_stopping = keras.callbacks.EarlyStopping(monitor=\"val_loss\", patience=10)\n",
        "reduce_lr = keras.callbacks.ReduceLROnPlateau(monitor=\"val_loss\", patience=5)\n",
        "\n",
        "# Fit the model to the training data\n",
        "model.fit(x_train,\n",
        "          y_train,\n",
        "          batch_size=batch_size,\n",
        "          epochs=epochs,\n",
        "          validation_data=(x_test, y_test),\n",
        "          callbacks=[early_stopping, reduce_lr],)"
      ],
      "metadata": {
        "colab": {
          "base_uri": "https://localhost:8080/"
        },
        "id": "BwTAXVakqwoj",
        "outputId": "886ca29a-179e-4ae4-c2f3-a7adb95e68a1"
      },
      "execution_count": 14,
      "outputs": [
        {
          "output_type": "stream",
          "name": "stdout",
          "text": [
            "WARNING:tensorflow:Keras is training/fitting/evaluating on array-like data. Keras may not be optimized for this format, so if your input data format is supported by TensorFlow I/O (https://github.com/tensorflow/io) we recommend using that to load a Dataset instead.\n",
            "3/3 [==============================] - ETA: 0s - loss: 0.5020 WARNING:tensorflow:Keras is training/fitting/evaluating on array-like data. Keras may not be optimized for this format, so if your input data format is supported by TensorFlow I/O (https://github.com/tensorflow/io) we recommend using that to load a Dataset instead.\n",
            "3/3 [==============================] - 135s 35s/step - loss: 0.5020 - val_loss: 0.6732 - lr: 0.0010\n"
          ]
        },
        {
          "output_type": "execute_result",
          "data": {
            "text/plain": [
              "<keras.callbacks.History at 0x7f0edd9d9690>"
            ]
          },
          "metadata": {},
          "execution_count": 14
        }
      ]
    },
    {
      "cell_type": "code",
      "source": [
        "# Visualize results\n",
        "\n",
        "import numpy as np # the model returns a prediction as a numpy array\n",
        "\n",
        "# Select a single, random raster from the test set\n",
        "example = test_dataset[da.random.choice(range(len(test_dataset)), size=1)[0]]\n",
        "\n",
        "# Split the frames into two parts\n",
        "idx = example.shape[0] // 2\n",
        "frames = example[:idx, ...]\n",
        "original_frames = example[idx:, ...]\n",
        "\n",
        "# Predict a new set of frames\n",
        "for _ in range(idx):\n",
        "    # Extract the model's prediction and post-process it.\n",
        "    new_prediction_probs = model.predict(da.stack([frames], axis=0))\n",
        "    new_prediction_probs = np.squeeze(new_prediction_probs, axis=0)\n",
        "    predicted_frame_probs = np.expand_dims(new_prediction_probs[-1, ...], axis=0)\n",
        "    predicted_frame = np.eye(predicted_frame_probs.shape[3]) \\\n",
        "      [predicted_frame_probs.argmax(axis=3)] # convert probablities to 0s and 1s\n",
        "    # Extend the set of prediction frames\n",
        "    frames = np.concatenate((frames, predicted_frame), axis=0)\n",
        "\n",
        "# Construct a figure to plot the original and predicted frames\n",
        "fig, axes = plt.subplots(2, idx, figsize=(20, 4))\n",
        "\n",
        "# Plot the original frames\n",
        "for i, ax in enumerate(axes[0]):\n",
        "    ax.imshow(da.squeeze(original_frames[i]).astype('float64'), cmap=\"gray\")\n",
        "    ax.set_yticks([])\n",
        "    ax.set_xticks([])\n",
        "    ax.set_title(f\"{2013 + i}\")\n",
        "    if i == (idx - 1):\n",
        "        legend = [Patch(facecolor='red', label='Missing'),\n",
        "                  Patch(facecolor='lime', label='Not Deforested'),\n",
        "                  Patch(facecolor='blue', label='Deforested')]\n",
        "        ax.legend(handles=legend, bbox_to_anchor=(2.5, 1), fontsize=12)\n",
        "    if i==0:\n",
        "        ax.set_ylabel(\"Actual\")\n",
        "\n",
        "# Plot the predicted frames\n",
        "new_frames = frames[idx:, ...]\n",
        "for i, ax in enumerate(axes[1]):\n",
        "    ax.imshow(np.squeeze(new_frames[i]), cmap=\"gray\")\n",
        "    ax.set_yticks([])\n",
        "    ax.set_xticks([])\n",
        "    if i==0:\n",
        "        ax.set_ylabel(\"Predicted\")\n",
        "\n",
        "# Display the figure\n",
        "plt.show()"
      ],
      "metadata": {
        "colab": {
          "base_uri": "https://localhost:8080/",
          "height": 444
        },
        "id": "SHlhCZD0rFO5",
        "outputId": "12b4aa01-a6f9-4208-c9c3-bccb5f8c59ab"
      },
      "execution_count": 16,
      "outputs": [
        {
          "output_type": "stream",
          "name": "stdout",
          "text": [
            "WARNING:tensorflow:Keras is training/fitting/evaluating on array-like data. Keras may not be optimized for this format, so if your input data format is supported by TensorFlow I/O (https://github.com/tensorflow/io) we recommend using that to load a Dataset instead.\n",
            "WARNING:tensorflow:Keras is training/fitting/evaluating on array-like data. Keras may not be optimized for this format, so if your input data format is supported by TensorFlow I/O (https://github.com/tensorflow/io) we recommend using that to load a Dataset instead.\n",
            "WARNING:tensorflow:Keras is training/fitting/evaluating on array-like data. Keras may not be optimized for this format, so if your input data format is supported by TensorFlow I/O (https://github.com/tensorflow/io) we recommend using that to load a Dataset instead.\n",
            "WARNING:tensorflow:Keras is training/fitting/evaluating on array-like data. Keras may not be optimized for this format, so if your input data format is supported by TensorFlow I/O (https://github.com/tensorflow/io) we recommend using that to load a Dataset instead.\n",
            "WARNING:tensorflow:Keras is training/fitting/evaluating on array-like data. Keras may not be optimized for this format, so if your input data format is supported by TensorFlow I/O (https://github.com/tensorflow/io) we recommend using that to load a Dataset instead.\n",
            "WARNING:tensorflow:Keras is training/fitting/evaluating on array-like data. Keras may not be optimized for this format, so if your input data format is supported by TensorFlow I/O (https://github.com/tensorflow/io) we recommend using that to load a Dataset instead.\n",
            "WARNING:tensorflow:Keras is training/fitting/evaluating on array-like data. Keras may not be optimized for this format, so if your input data format is supported by TensorFlow I/O (https://github.com/tensorflow/io) we recommend using that to load a Dataset instead.\n",
            "WARNING:tensorflow:Keras is training/fitting/evaluating on array-like data. Keras may not be optimized for this format, so if your input data format is supported by TensorFlow I/O (https://github.com/tensorflow/io) we recommend using that to load a Dataset instead.\n",
            "WARNING:tensorflow:Keras is training/fitting/evaluating on array-like data. Keras may not be optimized for this format, so if your input data format is supported by TensorFlow I/O (https://github.com/tensorflow/io) we recommend using that to load a Dataset instead.\n"
          ]
        },
        {
          "output_type": "display_data",
          "data": {
            "text/plain": [
              "<Figure size 1440x288 with 18 Axes>"
            ],
            "image/png": "[encoded data removed]"
          },
          "metadata": {}
        }
      ]
    }
  ]
}

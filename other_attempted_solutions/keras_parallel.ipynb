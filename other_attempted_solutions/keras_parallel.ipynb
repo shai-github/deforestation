{
 "cells": [
  {
   "cell_type": "code",
   "execution_count": 1,
   "id": "b5a8e61b",
   "metadata": {},
   "outputs": [
    {
     "name": "stdout",
     "output_type": "stream",
     "text": [
      "Requirement already satisfied: rasterio in /usr/local/anaconda3/lib/python3.8/site-packages (1.2.10)\n",
      "Requirement already satisfied: click>=4.0 in /usr/local/anaconda3/lib/python3.8/site-packages (from rasterio) (8.1.3)\n",
      "Requirement already satisfied: numpy in /usr/local/anaconda3/lib/python3.8/site-packages (from rasterio) (1.22.3)\n",
      "Requirement already satisfied: click-plugins in /usr/local/anaconda3/lib/python3.8/site-packages (from rasterio) (1.1.1)\n",
      "Requirement already satisfied: attrs in /usr/local/anaconda3/lib/python3.8/site-packages (from rasterio) (20.3.0)\n",
      "Requirement already satisfied: certifi in /usr/local/anaconda3/lib/python3.8/site-packages (from rasterio) (2020.6.20)\n",
      "Requirement already satisfied: snuggs>=1.4.1 in /usr/local/anaconda3/lib/python3.8/site-packages (from rasterio) (1.4.7)\n",
      "Requirement already satisfied: setuptools in /usr/local/anaconda3/lib/python3.8/site-packages (from rasterio) (50.3.1.post20201107)\n",
      "Requirement already satisfied: affine in /usr/local/anaconda3/lib/python3.8/site-packages (from rasterio) (2.3.1)\n",
      "Requirement already satisfied: cligj>=0.5 in /usr/local/anaconda3/lib/python3.8/site-packages (from rasterio) (0.7.2)\n",
      "Requirement already satisfied: pyparsing>=2.1.6 in /usr/local/anaconda3/lib/python3.8/site-packages (from snuggs>=1.4.1->rasterio) (3.0.9)\n"
     ]
    }
   ],
   "source": [
    "!pip install rasterio"
   ]
  },
  {
   "cell_type": "code",
   "execution_count": 2,
   "id": "4246c206",
   "metadata": {},
   "outputs": [
    {
     "name": "stdout",
     "output_type": "stream",
     "text": [
      "Collecting scikeras\n",
      "  Downloading scikeras-0.8.0-py3-none-any.whl (27 kB)\n",
      "Collecting scikit-learn>=1.0.0\n",
      "  Downloading scikit_learn-1.1.1-cp38-cp38-macosx_10_13_x86_64.whl (8.5 MB)\n",
      "\u001b[K     |████████████████████████████████| 8.5 MB 793 kB/s eta 0:00:01\n",
      "\u001b[?25hRequirement already satisfied: packaging<22.0,>=0.21 in /usr/local/anaconda3/lib/python3.8/site-packages (from scikeras) (21.3)\n",
      "Collecting joblib>=1.0.0\n",
      "  Downloading joblib-1.1.0-py2.py3-none-any.whl (306 kB)\n",
      "\u001b[K     |████████████████████████████████| 306 kB 16.9 MB/s eta 0:00:01\n",
      "\u001b[?25hRequirement already satisfied: threadpoolctl>=2.0.0 in /usr/local/anaconda3/lib/python3.8/site-packages (from scikit-learn>=1.0.0->scikeras) (2.1.0)\n",
      "Requirement already satisfied: numpy>=1.17.3 in /usr/local/anaconda3/lib/python3.8/site-packages (from scikit-learn>=1.0.0->scikeras) (1.22.3)\n",
      "Requirement already satisfied: scipy>=1.3.2 in /usr/local/anaconda3/lib/python3.8/site-packages (from scikit-learn>=1.0.0->scikeras) (1.5.2)\n",
      "Requirement already satisfied: pyparsing!=3.0.5,>=2.0.2 in /usr/local/anaconda3/lib/python3.8/site-packages (from packaging<22.0,>=0.21->scikeras) (3.0.9)\n",
      "Installing collected packages: joblib, scikit-learn, scikeras\n",
      "  Attempting uninstall: joblib\n",
      "    Found existing installation: joblib 0.17.0\n",
      "    Uninstalling joblib-0.17.0:\n",
      "      Successfully uninstalled joblib-0.17.0\n",
      "  Attempting uninstall: scikit-learn\n",
      "    Found existing installation: scikit-learn 0.23.2\n",
      "    Uninstalling scikit-learn-0.23.2:\n",
      "      Successfully uninstalled scikit-learn-0.23.2\n",
      "Successfully installed joblib-1.1.0 scikeras-0.8.0 scikit-learn-1.1.1\n",
      "Note: you may need to restart the kernel to use updated packages.\n"
     ]
    }
   ],
   "source": [
    "pip install scikeras"
   ]
  },
  {
   "cell_type": "code",
   "execution_count": 3,
   "id": "132b89fe",
   "metadata": {},
   "outputs": [
    {
     "name": "stderr",
     "output_type": "stream",
     "text": [
      "/usr/local/anaconda3/lib/python3.8/site-packages/requests/__init__.py:89: RequestsDependencyWarning: urllib3 (1.26.9) or chardet (3.0.4) doesn't match a supported version!\n",
      "  warnings.warn(\"urllib3 ({}) or chardet ({}) doesn't match a supported \"\n"
     ]
    }
   ],
   "source": [
    "import os\n",
    "import numpy as np\n",
    "import rasterio as rio\n",
    "from numba import jit\n",
    "import tensorflow as tf\n",
    "from tensorflow import keras\n",
    "from tensorflow.keras import layers\n",
    "import matplotlib.pyplot as plt\n",
    "from matplotlib.patches import Patch"
   ]
  },
  {
   "cell_type": "markdown",
   "id": "dbec5c35",
   "metadata": {},
   "source": [
    "## Hyperparameter optimization"
   ]
  },
  {
   "cell_type": "code",
   "execution_count": null,
   "id": "6ec7b762",
   "metadata": {},
   "outputs": [],
   "source": [
    "from tensorflow.keras.datasets import mnist\n",
    "from tensorflow.keras.utils import to_categorical\n",
    "import numpy as np\n",
    "from typing import Tuple\n",
    "\n",
    "def get_mnist() -> Tuple[np.ndarray, np.ndarray]:\n",
    "    (X_train, y_train), _ = mnist.load_data()\n",
    "    X_train = X_train.reshape(X_train.shape[0], 784)\n",
    "    X_train = X_train.astype(\"float32\")\n",
    "    X_train /= 255\n",
    "    return X_train, y_train"
   ]
  },
  {
   "cell_type": "code",
   "execution_count": null,
   "id": "a461085b",
   "metadata": {},
   "outputs": [],
   "source": [
    "from scipy.stats import loguniform, uniform\n",
    "params = {\"lr\": loguniform(1e-3, 1e-1), \"momentum\": uniform(0, 1)}\n",
    "X, y = get_mnist()"
   ]
  },
  {
   "cell_type": "code",
   "execution_count": null,
   "id": "2fb30449",
   "metadata": {},
   "outputs": [],
   "source": [
    "from dask.distributed import Client\n",
    "client = Client()\n",
    "\n",
    "from dask_ml.model_selection import HyperbandSearchCV\n",
    "search = HyperbandSearchCV(model, params, max_iter=27)\n",
    "search.fit(X, y)"
   ]
  },
  {
   "cell_type": "markdown",
   "id": "1b9baf12",
   "metadata": {},
   "source": [
    "## Model wrapper"
   ]
  },
  {
   "cell_type": "code",
   "execution_count": null,
   "id": "76cbb6eb",
   "metadata": {},
   "outputs": [],
   "source": [
    "# Define the CNN-LSTM architecture\n",
    "\n",
    "# Construct the input layer with no definite frame size\n",
    "inp = layers.Input(shape=(None, *x_train.shape[2:]))\n",
    "\n",
    "# Construct three ConvLSTM2D layers with batch norm,\n",
    "# followed by a Conv3D layer so that the output is\n",
    "# the same shape as the original raster\n",
    "x = layers.ConvLSTM2D(filters=num_filters,\n",
    "                      kernel_size=(5, 5),\n",
    "                      padding=\"same\",\n",
    "                      return_sequences=True,\n",
    "                      activation=\"relu\",)(inp)\n",
    "x = layers.BatchNormalization()(x)\n",
    "x = layers.ConvLSTM2D(filters=num_filters,\n",
    "                      kernel_size=(3, 3),\n",
    "                      padding=\"same\",\n",
    "                      return_sequences=True,\n",
    "                      activation=\"relu\",)(x)\n",
    "x = layers.BatchNormalization()(x)\n",
    "x = layers.ConvLSTM2D(filters=num_filters,\n",
    "                      kernel_size=(1, 1),\n",
    "                      padding=\"same\",\n",
    "                      return_sequences=True,\n",
    "                      activation=\"relu\",)(x)\n",
    "x = layers.Conv3D(filters=3, \n",
    "                  kernel_size=(3, 3, 3), \n",
    "                  activation=\"softmax\", \n",
    "                  padding=\"same\")(x)\n",
    "\n",
    "# Build and compile the model\n",
    "model = keras.models.Model(inp, x)\n",
    "model.compile(loss=keras.losses.binary_crossentropy,\n",
    "              optimizer=keras.optimizers.Adam())"
   ]
  },
  {
   "cell_type": "code",
   "execution_count": null,
   "id": "2bd433b6",
   "metadata": {},
   "outputs": [],
   "source": [
    "from tensorflow import keras\n",
    "from tensorflow.keras import models\n",
    "\n",
    "neural_classifier = models.Sequential(\n",
    "    [\n",
    "        keras.layers.Dense(13, activation=\"relu\", input_shape=(X_train.shape[1],)),\n",
    "        keras.layers.Dense(26, activation=\"relu\"),\n",
    "        keras.layers.Dense(3, activation=\"softmax\")\n",
    "    ]\n",
    ")\n",
    "\n",
    "neural_classifier.summary()"
   ]
  },
  {
   "cell_type": "code",
   "execution_count": null,
   "id": "0b0e6992",
   "metadata": {},
   "outputs": [],
   "source": [
    "from scikeras.wrappers import KerasClassifier\n",
    "\n",
    "scikeras_classifier = KerasClassifier(model=neural_classifier,\n",
    "                                      optimizer=\"adam\",\n",
    "                                      loss=keras.losses.categorical_crossentropy,\n",
    "                                      batch_size=8,\n",
    "                                      epochs=100,\n",
    "                                      verbose=0,\n",
    "                                      validation_split=0.1\n",
    "                                      )"
   ]
  },
  {
   "cell_type": "code",
   "execution_count": null,
   "id": "122ab303",
   "metadata": {},
   "outputs": [],
   "source": [
    "scikeras_classifier.fit(X_train, Y_train);"
   ]
  },
  {
   "cell_type": "code",
   "execution_count": null,
   "id": "4da37777",
   "metadata": {},
   "outputs": [],
   "source": [
    "Y_preds = scikeras_classifier.predict(X_test)\n",
    "Y_probs = scikeras_classifier.predict_proba(X_test)\n",
    "\n",
    "Y_preds[:5], Y_probs[:5]"
   ]
  },
  {
   "cell_type": "code",
   "execution_count": null,
   "id": "5cda4a48",
   "metadata": {},
   "outputs": [],
   "source": [
    "print(\"Test  Accuracy : {:.2f}\".format(scikeras_classifier.score(X_test, Y_test)))\n",
    "print(\"Train Accuracy : {:.2f}\".format(scikeras_classifier.score(X_train, Y_train)))"
   ]
  }
 ],
 "metadata": {
  "kernelspec": {
   "display_name": "Python 3",
   "language": "python",
   "name": "python3"
  },
  "language_info": {
   "codemirror_mode": {
    "name": "ipython",
    "version": 3
   },
   "file_extension": ".py",
   "mimetype": "text/x-python",
   "name": "python",
   "nbconvert_exporter": "python",
   "pygments_lexer": "ipython3",
   "version": "3.8.5"
  }
 },
 "nbformat": 4,
 "nbformat_minor": 5
}

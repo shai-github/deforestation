{
  "cells": [
    {
      "cell_type": "code",
      "execution_count": 1,
      "id": "1d3f4283",
      "metadata": {
        "colab": {
          "base_uri": "https://localhost:8080/"
        },
        "id": "1d3f4283",
        "outputId": "1ff0be89-9471-418a-a4e8-ac2f4c41dc57"
      },
      "outputs": [
        {
          "output_type": "stream",
          "name": "stdout",
          "text": [
            "Drive already mounted at /content/gdrive; to attempt to forcibly remount, call drive.mount(\"/content/gdrive\", force_remount=True).\n"
          ]
        }
      ],
      "source": [
        "from google.colab import drive\n",
        "drive.mount('/content/gdrive')"
      ]
    },
    {
      "cell_type": "code",
      "source": [
        "!pip install rasterio"
      ],
      "metadata": {
        "colab": {
          "base_uri": "https://localhost:8080/"
        },
        "id": "keRn78EE-mVS",
        "outputId": "13c42301-0335-4e1d-9db2-8ad97312948b"
      },
      "id": "keRn78EE-mVS",
      "execution_count": 2,
      "outputs": [
        {
          "output_type": "stream",
          "name": "stdout",
          "text": [
            "Requirement already satisfied: rasterio in /usr/local/lib/python3.7/dist-packages (1.2.10)\n",
            "Requirement already satisfied: certifi in /usr/local/lib/python3.7/dist-packages (from rasterio) (2021.10.8)\n",
            "Requirement already satisfied: click-plugins in /usr/local/lib/python3.7/dist-packages (from rasterio) (1.1.1)\n",
            "Requirement already satisfied: attrs in /usr/local/lib/python3.7/dist-packages (from rasterio) (21.4.0)\n",
            "Requirement already satisfied: setuptools in /usr/local/lib/python3.7/dist-packages (from rasterio) (57.4.0)\n",
            "Requirement already satisfied: affine in /usr/local/lib/python3.7/dist-packages (from rasterio) (2.3.1)\n",
            "Requirement already satisfied: snuggs>=1.4.1 in /usr/local/lib/python3.7/dist-packages (from rasterio) (1.4.7)\n",
            "Requirement already satisfied: numpy in /usr/local/lib/python3.7/dist-packages (from rasterio) (1.21.6)\n",
            "Requirement already satisfied: click>=4.0 in /usr/local/lib/python3.7/dist-packages (from rasterio) (7.1.2)\n",
            "Requirement already satisfied: cligj>=0.5 in /usr/local/lib/python3.7/dist-packages (from rasterio) (0.7.2)\n",
            "Requirement already satisfied: pyparsing>=2.1.6 in /usr/local/lib/python3.7/dist-packages (from snuggs>=1.4.1->rasterio) (3.0.9)\n"
          ]
        }
      ]
    },
    {
      "cell_type": "code",
      "source": [
        "import os\n",
        "import numpy as np\n",
        "import rasterio as rio\n",
        "from numba import jit\n",
        "import tensorflow as tf\n",
        "from tensorflow import keras\n",
        "from tensorflow.keras import layers\n",
        "import matplotlib.pyplot as plt\n",
        "from matplotlib.patches import Patch"
      ],
      "metadata": {
        "id": "3RVO-A4O_1xx"
      },
      "id": "3RVO-A4O_1xx",
      "execution_count": 3,
      "outputs": []
    },
    {
      "cell_type": "code",
      "source": [
        "# Define function to load the data\n",
        "def load_data(filepath):\n",
        "    folder_lst = []\n",
        "    for folder in os.listdir(filepath):\n",
        "        tif_lst = []\n",
        "        for tif in os.listdir(filepath + folder):\n",
        "            # Read the tif as a numpy array\n",
        "            frame = rio.open(filepath + folder + '/' + tif).read(1).astype('int')\n",
        "\n",
        "            # Add time dimension\n",
        "            frame = np.expand_dims(frame, axis=0)\n",
        "            # Add sample dimension\n",
        "            frame = np.expand_dims(frame, axis=0)\n",
        "\n",
        "            tif_lst.append(frame)\n",
        "        # Concatenate across samples\n",
        "        folder_lst.append(np.concatenate(tif_lst, axis=0))\n",
        "\n",
        "    # Concatenate across time\n",
        "    dataset = np.concatenate(folder_lst, axis=1)\n",
        "    return dataset"
      ],
      "metadata": {
        "id": "-Ncoj8lc_jVc"
      },
      "id": "-Ncoj8lc_jVc",
      "execution_count": 4,
      "outputs": []
    },
    {
      "cell_type": "code",
      "source": [
        "# Define function to preprocess the data\n",
        "@jit(nopython=True)\n",
        "def preprocess(raw_dataset):\n",
        "    # Convert all values to one of three categories: \n",
        "    # 0 for missing data, 1 for no deforestation, and 2 for deforestation\n",
        "    cat_dataset = np.digitize(raw_dataset, bins=[-0.5, 0.5])\n",
        "\n",
        "    # One-hot encode the data\n",
        "    # This expands the number of channels for each raster from one to three\n",
        "    # The first channel is equal to 1 if data is missing, 0 otherwise\n",
        "    # The second channel is equal to 1 if no deforestation occurred, 0 otherwise\n",
        "    # The third channel is equal to 1 if deforestation occurred, 0 otherwise\n",
        "    dataset = (np.arange(cat_dataset.max()+1) == np.expand_dims(cat_dataset, axis=-1)).astype(np.int64)\n",
        "\n",
        "    return dataset    "
      ],
      "metadata": {
        "id": "zlhNhM_YNoiO"
      },
      "id": "zlhNhM_YNoiO",
      "execution_count": 5,
      "outputs": []
    },
    {
      "cell_type": "code",
      "source": [
        "# Load the data\n",
        "dataset = load_data('/content/gdrive/MyDrive/data/') # replace this function with Keras's data loader\n",
        "dataset = preprocess(dataset)"
      ],
      "metadata": {
        "id": "pZSvNb_v-b-8"
      },
      "id": "pZSvNb_v-b-8",
      "execution_count": 6,
      "outputs": []
    },
    {
      "cell_type": "code",
      "source": [
        "# Get the size of the dataset\n",
        "print('Dataset size:', dataset.shape)\n",
        "\n",
        "num_samples = dataset.shape[0]\n",
        "print('Number of rasters per year:', num_samples)\n",
        "\n",
        "num_frames = dataset.shape[1]\n",
        "print('Number of years:', num_frames)\n",
        "\n",
        "raster_size = dataset.shape[2:]\n",
        "print('Raster size:', raster_size)"
      ],
      "metadata": {
        "colab": {
          "base_uri": "https://localhost:8080/"
        },
        "id": "Kj-8Vyol_vzj",
        "outputId": "580a82da-0163-4198-9143-30ff1bdd5ef5"
      },
      "id": "Kj-8Vyol_vzj",
      "execution_count": 7,
      "outputs": [
        {
          "output_type": "stream",
          "name": "stdout",
          "text": [
            "Dataset size: (10, 18, 40, 40, 3)\n",
            "Number of rasters per year: 10\n",
            "Number of years: 18\n",
            "Raster size: (40, 40, 3)\n"
          ]
        }
      ]
    },
    {
      "cell_type": "code",
      "source": [
        "# Split into train and test sets (use indexing to optimize memory)\n",
        "train_prop = 0.8\n",
        "sample_indices = np.arange(dataset.shape[0])\n",
        "np.random.seed(123)\n",
        "np.random.shuffle(sample_indices)\n",
        "train_indices = sample_indices[:int(train_prop * dataset.shape[0])]\n",
        "test_indices = sample_indices[int(train_prop * dataset.shape[0]):]\n",
        "train_dataset = dataset[train_indices]\n",
        "test_dataset = dataset[test_indices]"
      ],
      "metadata": {
        "id": "1sFWINxhRIPf"
      },
      "id": "1sFWINxhRIPf",
      "execution_count": null,
      "outputs": []
    },
    {
      "cell_type": "code",
      "source": [
        "# Define function to extract features and outcome variable\n",
        "# x is frames 0 to n-1, and y is frames 1 to n\n",
        "def split_x_y(data):\n",
        "    x = data[:, 0:data.shape[1]-1, :, :]\n",
        "    y = data[:, 1:data.shape[1], :, :]\n",
        "    return x, y"
      ],
      "metadata": {
        "id": "U_bFxGWOT39T"
      },
      "id": "U_bFxGWOT39T",
      "execution_count": null,
      "outputs": []
    },
    {
      "cell_type": "code",
      "source": [
        "# Extract features and outcome variable\n",
        "x_train, y_train = split_x_y(train_dataset)\n",
        "x_test, y_test = split_x_y(test_dataset)"
      ],
      "metadata": {
        "id": "Zlk9KcgESZcI"
      },
      "id": "Zlk9KcgESZcI",
      "execution_count": null,
      "outputs": []
    },
    {
      "cell_type": "code",
      "source": [
        "# Get the size of the training and test sets\n",
        "print(\"Training Feature Shape: \" + str(x_train.shape) + \n",
        "      \", Training Outcome Shape: \" + str(y_train.shape))\n",
        "print(\"Testing Feature Shape: \" + str(x_test.shape) + \n",
        "      \", Testing Outcome Shape: \" + str(y_test.shape))"
      ],
      "metadata": {
        "colab": {
          "base_uri": "https://localhost:8080/"
        },
        "id": "qsGLuFq8Wf1T",
        "outputId": "2da89059-e039-4d43-dd2d-fe89f766182a"
      },
      "id": "qsGLuFq8Wf1T",
      "execution_count": null,
      "outputs": [
        {
          "output_type": "stream",
          "name": "stdout",
          "text": [
            "Training Feature Shape: (8, 17, 40, 40, 3), Training Outcome Shape: (8, 17, 40, 40, 3)\n",
            "Testing Feature Shape: (2, 17, 40, 40, 3), Testing Outcome Shape: (2, 17, 40, 40, 3)\n"
          ]
        }
      ]
    },
    {
      "cell_type": "code",
      "source": [
        "# Define hyperparameters (we can cross-validate these later)\n",
        "epochs = 50\n",
        "batch_size = 8\n",
        "num_filters = 64"
      ],
      "metadata": {
        "id": "to86m_KM5dcf"
      },
      "id": "to86m_KM5dcf",
      "execution_count": null,
      "outputs": []
    },
    {
      "cell_type": "code",
      "source": [
        "# Define the CNN-LSTM architecture\n",
        "\n",
        "# Construct the input layer with no definite frame size\n",
        "inp = layers.Input(shape=(None, *x_train.shape[2:]))\n",
        "\n",
        "# Construct three ConvLSTM2D layers with batch norm,\n",
        "# followed by a Conv3D layer so that the output is\n",
        "# the same shape as the original raster\n",
        "x = layers.ConvLSTM2D(filters=num_filters,\n",
        "                      kernel_size=(5, 5),\n",
        "                      padding=\"same\",\n",
        "                      return_sequences=True,\n",
        "                      activation=\"relu\",)(inp)\n",
        "x = layers.BatchNormalization()(x)\n",
        "x = layers.ConvLSTM2D(filters=num_filters,\n",
        "                      kernel_size=(3, 3),\n",
        "                      padding=\"same\",\n",
        "                      return_sequences=True,\n",
        "                      activation=\"relu\",)(x)\n",
        "x = layers.BatchNormalization()(x)\n",
        "x = layers.ConvLSTM2D(filters=num_filters,\n",
        "                      kernel_size=(1, 1),\n",
        "                      padding=\"same\",\n",
        "                      return_sequences=True,\n",
        "                      activation=\"relu\",)(x)\n",
        "x = layers.Conv3D(filters=3, \n",
        "                  kernel_size=(3, 3, 3), \n",
        "                  activation=\"softmax\", \n",
        "                  padding=\"same\")(x)\n",
        "\n",
        "# Build and compile the model\n",
        "model = keras.models.Model(inp, x)\n",
        "model.compile(loss=keras.losses.binary_crossentropy,\n",
        "              optimizer=keras.optimizers.Adam())"
      ],
      "metadata": {
        "id": "Y1g2ZMDUXC7f"
      },
      "id": "Y1g2ZMDUXC7f",
      "execution_count": null,
      "outputs": []
    },
    {
      "cell_type": "code",
      "source": [
        "# Train the model\n",
        "\n",
        "# Define callbacks to improve training\n",
        "early_stopping = keras.callbacks.EarlyStopping(monitor=\"val_loss\", patience=10)\n",
        "reduce_lr = keras.callbacks.ReduceLROnPlateau(monitor=\"val_loss\", patience=5)\n",
        "\n",
        "# Fit the model to the training data\n",
        "model.fit(x_train,\n",
        "          y_train,\n",
        "          batch_size=batch_size,\n",
        "          epochs=epochs,\n",
        "          validation_data=(x_test, y_test),\n",
        "          callbacks=[early_stopping, reduce_lr],)"
      ],
      "metadata": {
        "colab": {
          "base_uri": "https://localhost:8080/"
        },
        "id": "bXLiMkdnY2ks",
        "outputId": "997e6aab-a58d-412d-a327-078e903d5c36"
      },
      "id": "bXLiMkdnY2ks",
      "execution_count": null,
      "outputs": [
        {
          "output_type": "stream",
          "name": "stdout",
          "text": [
            "Epoch 1/20\n",
            "1/1 [==============================] - 43s 43s/step - loss: 0.7265 - val_loss: 0.6886 - lr: 0.0010\n",
            "Epoch 2/20\n",
            "1/1 [==============================] - 28s 28s/step - loss: 0.4993 - val_loss: 0.6799 - lr: 0.0010\n",
            "Epoch 3/20\n",
            "1/1 [==============================] - 28s 28s/step - loss: 0.3329 - val_loss: 0.6675 - lr: 0.0010\n",
            "Epoch 4/20\n",
            "1/1 [==============================] - 29s 29s/step - loss: 0.2638 - val_loss: 0.6530 - lr: 0.0010\n",
            "Epoch 5/20\n",
            "1/1 [==============================] - 28s 28s/step - loss: 0.2401 - val_loss: 0.6346 - lr: 0.0010\n",
            "Epoch 6/20\n",
            "1/1 [==============================] - 28s 28s/step - loss: 0.2188 - val_loss: 0.6092 - lr: 0.0010\n",
            "Epoch 7/20\n",
            "1/1 [==============================] - 28s 28s/step - loss: 0.2076 - val_loss: 0.5817 - lr: 0.0010\n",
            "Epoch 8/20\n",
            "1/1 [==============================] - 28s 28s/step - loss: 0.2066 - val_loss: 0.5701 - lr: 0.0010\n",
            "Epoch 9/20\n",
            "1/1 [==============================] - 28s 28s/step - loss: 0.1972 - val_loss: 0.5601 - lr: 0.0010\n",
            "Epoch 10/20\n",
            "1/1 [==============================] - 28s 28s/step - loss: 0.1925 - val_loss: 0.5482 - lr: 0.0010\n",
            "Epoch 11/20\n",
            "1/1 [==============================] - 28s 28s/step - loss: 0.1931 - val_loss: 0.5590 - lr: 0.0010\n",
            "Epoch 12/20\n",
            "1/1 [==============================] - 28s 28s/step - loss: 0.1893 - val_loss: 0.5509 - lr: 0.0010\n",
            "Epoch 13/20\n",
            "1/1 [==============================] - 28s 28s/step - loss: 0.1834 - val_loss: 0.5506 - lr: 0.0010\n",
            "Epoch 14/20\n",
            "1/1 [==============================] - 28s 28s/step - loss: 0.1807 - val_loss: 0.5637 - lr: 0.0010\n",
            "Epoch 15/20\n",
            "1/1 [==============================] - 28s 28s/step - loss: 0.1773 - val_loss: 0.5768 - lr: 0.0010\n",
            "Epoch 16/20\n",
            "1/1 [==============================] - 28s 28s/step - loss: 0.1749 - val_loss: 0.5774 - lr: 1.0000e-04\n",
            "Epoch 17/20\n",
            "1/1 [==============================] - 28s 28s/step - loss: 0.1746 - val_loss: 0.5773 - lr: 1.0000e-04\n",
            "Epoch 18/20\n",
            "1/1 [==============================] - 28s 28s/step - loss: 0.1742 - val_loss: 0.5764 - lr: 1.0000e-04\n",
            "Epoch 19/20\n",
            "1/1 [==============================] - 28s 28s/step - loss: 0.1738 - val_loss: 0.5749 - lr: 1.0000e-04\n",
            "Epoch 20/20\n",
            "1/1 [==============================] - 28s 28s/step - loss: 0.1732 - val_loss: 0.5728 - lr: 1.0000e-04\n"
          ]
        },
        {
          "output_type": "execute_result",
          "data": {
            "text/plain": [
              "<keras.callbacks.History at 0x7f0cbbfcd4d0>"
            ]
          },
          "metadata": {},
          "execution_count": 13
        }
      ]
    },
    {
      "cell_type": "code",
      "source": [
        "# Visualize results\n",
        "\n",
        "# Select a single, random raster from the test set\n",
        "example = test_dataset[np.random.choice(range(len(test_dataset)), size=1)[0]]\n",
        "\n",
        "# Split the frames into two parts\n",
        "idx = example.shape[0] // 2\n",
        "frames = example[:idx, ...]\n",
        "original_frames = example[idx:, ...]\n",
        "\n",
        "# Predict a new set of frames\n",
        "for _ in range(idx):\n",
        "    # Extract the model's prediction and post-process it.\n",
        "    new_prediction_probs = model.predict(np.expand_dims(frames, axis=0))\n",
        "    new_prediction_probs = np.squeeze(new_prediction_probs, axis=0)\n",
        "    predicted_frame_probs = np.expand_dims(new_prediction_probs[-1, ...], axis=0)\n",
        "    predicted_frame = np.eye(predicted_frame_probs.shape[3]) \\\n",
        "      [predicted_frame_probs.argmax(axis=3)] # convert probablities to 0s and 1s\n",
        "    # Extend the set of prediction frames\n",
        "    frames = np.concatenate((frames, predicted_frame), axis=0)\n",
        "\n",
        "# Construct a figure to plot the original and predicted frames\n",
        "fig, axes = plt.subplots(2, idx, figsize=(20, 4))\n",
        "\n",
        "# Plot the original frames\n",
        "for i, ax in enumerate(axes[0]):\n",
        "    ax.imshow(np.squeeze(original_frames[i]), cmap=\"gray\")\n",
        "    ax.set_yticks([])\n",
        "    ax.set_xticks([])\n",
        "    ax.set_title(f\"{2013 + i}\")\n",
        "    if i == (idx - 1):\n",
        "        legend = [Patch(facecolor='red', label='Missing'),\n",
        "                  Patch(facecolor='lime', label='Not Deforested'),\n",
        "                  Patch(facecolor='blue', label='Deforested')]\n",
        "        ax.legend(handles=legend, bbox_to_anchor=(2.5, 1), fontsize=12)\n",
        "    if i==0:\n",
        "        ax.set_ylabel(\"Actual\")\n",
        "\n",
        "# Plot the predicted frames\n",
        "new_frames = frames[idx:, ...]\n",
        "for i, ax in enumerate(axes[1]):\n",
        "    ax.imshow(np.squeeze(new_frames[i]), cmap=\"gray\")\n",
        "    ax.set_yticks([])\n",
        "    ax.set_xticks([])\n",
        "    if i==0:\n",
        "        ax.set_ylabel(\"Predicted\")\n",
        "\n",
        "# Display the figure\n",
        "plt.show()"
      ],
      "metadata": {
        "colab": {
          "base_uri": "https://localhost:8080/",
          "height": 268
        },
        "id": "DnM9HW8MchfM",
        "outputId": "f8ff5325-cc55-43dc-9085-511ddfd9ac97"
      },
      "id": "DnM9HW8MchfM",
      "execution_count": null,
      "outputs": [
        {
          "output_type": "display_data",
          "data": {
            "text/plain": [
              "<Figure size 1440x288 with 18 Axes>"
            ],
            "image/png": "[encoded data removed]"
          },
          "metadata": {}
        }
      ]
    }
  ],
  "metadata": {
    "kernelspec": {
      "display_name": "Python 3 (ipykernel)",
      "language": "python",
      "name": "python3"
    },
    "language_info": {
      "codemirror_mode": {
        "name": "ipython",
        "version": 3
      },
      "file_extension": ".py",
      "mimetype": "text/x-python",
      "name": "python",
      "nbconvert_exporter": "python",
      "pygments_lexer": "ipython3",
      "version": "3.9.7"
    },
    "colab": {
      "name": "keras_model.ipynb",
      "provenance": [],
      "collapsed_sections": []
    }
  },
  "nbformat": 4,
  "nbformat_minor": 5
}

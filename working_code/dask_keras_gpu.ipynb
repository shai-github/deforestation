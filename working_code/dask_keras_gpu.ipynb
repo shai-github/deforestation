{
  "cells": [
    {
      "cell_type": "code",
      "execution_count": 1,
      "metadata": {
        "colab": {
          "base_uri": "https://localhost:8080/"
        },
        "id": "AKSvzcq9pSKS",
        "outputId": "2cc3db48-cebb-4dbc-f730-29202f75e38f"
      },
      "outputs": [
        {
          "name": "stdout",
          "output_type": "stream",
          "text": [
            "Mounted at /content/gdrive\n"
          ]
        }
      ],
      "source": [
        "from google.colab import drive\n",
        "drive.mount('/content/gdrive')"
      ]
    },
    {
      "cell_type": "code",
      "execution_count": 2,
      "metadata": {
        "colab": {
          "base_uri": "https://localhost:8080/"
        },
        "id": "9J5WWlQvNZSZ",
        "outputId": "2ec99325-6404-4809-dd35-68571cf25acb"
      },
      "outputs": [
        {
          "name": "stdout",
          "output_type": "stream",
          "text": [
            "Looking in indexes: https://pypi.org/simple, https://us-python.pkg.dev/colab-wheels/public/simple/\n",
            "Collecting scikeras\n",
            "  Downloading scikeras-0.8.0-py3-none-any.whl (27 kB)\n",
            "Requirement already satisfied: packaging<22.0,>=0.21 in /usr/local/lib/python3.7/dist-packages (from scikeras) (21.3)\n",
            "Requirement already satisfied: importlib-metadata>=3 in /usr/local/lib/python3.7/dist-packages (from scikeras) (4.11.3)\n",
            "Requirement already satisfied: scikit-learn>=1.0.0 in /usr/local/lib/python3.7/dist-packages (from scikeras) (1.0.2)\n",
            "Requirement already satisfied: zipp>=0.5 in /usr/local/lib/python3.7/dist-packages (from importlib-metadata>=3->scikeras) (3.8.0)\n",
            "Requirement already satisfied: typing-extensions>=3.6.4 in /usr/local/lib/python3.7/dist-packages (from importlib-metadata>=3->scikeras) (4.2.0)\n",
            "Requirement already satisfied: pyparsing!=3.0.5,>=2.0.2 in /usr/local/lib/python3.7/dist-packages (from packaging<22.0,>=0.21->scikeras) (3.0.9)\n",
            "Requirement already satisfied: scipy>=1.1.0 in /usr/local/lib/python3.7/dist-packages (from scikit-learn>=1.0.0->scikeras) (1.4.1)\n",
            "Requirement already satisfied: threadpoolctl>=2.0.0 in /usr/local/lib/python3.7/dist-packages (from scikit-learn>=1.0.0->scikeras) (3.1.0)\n",
            "Requirement already satisfied: numpy>=1.14.6 in /usr/local/lib/python3.7/dist-packages (from scikit-learn>=1.0.0->scikeras) (1.21.6)\n",
            "Requirement already satisfied: joblib>=0.11 in /usr/local/lib/python3.7/dist-packages (from scikit-learn>=1.0.0->scikeras) (1.1.0)\n",
            "Installing collected packages: scikeras\n",
            "Successfully installed scikeras-0.8.0\n",
            "Looking in indexes: https://pypi.org/simple, https://us-python.pkg.dev/colab-wheels/public/simple/\n",
            "Requirement already satisfied: dask in /usr/local/lib/python3.7/dist-packages (2.12.0)\n",
            "Collecting dask\n",
            "  Downloading dask-2022.2.0-py3-none-any.whl (1.1 MB)\n",
            "\u001b[K     |████████████████████████████████| 1.1 MB 15.0 MB/s \n",
            "\u001b[?25hCollecting dask_ml\n",
            "  Downloading dask_ml-2022.1.22-py3-none-any.whl (148 kB)\n",
            "\u001b[K     |████████████████████████████████| 148 kB 63.5 MB/s \n",
            "\u001b[?25hRequirement already satisfied: distributed in /usr/local/lib/python3.7/dist-packages (1.25.3)\n",
            "Collecting distributed\n",
            "  Downloading distributed-2022.2.0-py3-none-any.whl (837 kB)\n",
            "\u001b[K     |████████████████████████████████| 837 kB 53.9 MB/s \n",
            "\u001b[?25hRequirement already satisfied: toolz>=0.8.2 in /usr/local/lib/python3.7/dist-packages (from dask) (0.11.2)\n",
            "Collecting pyyaml>=5.3.1\n",
            "  Downloading PyYAML-6.0-cp37-cp37m-manylinux_2_5_x86_64.manylinux1_x86_64.manylinux_2_12_x86_64.manylinux2010_x86_64.whl (596 kB)\n",
            "\u001b[K     |████████████████████████████████| 596 kB 62.9 MB/s \n",
            "\u001b[?25hCollecting partd>=0.3.10\n",
            "  Downloading partd-1.2.0-py3-none-any.whl (19 kB)\n",
            "Requirement already satisfied: cloudpickle>=1.1.1 in /usr/local/lib/python3.7/dist-packages (from dask) (1.3.0)\n",
            "Requirement already satisfied: packaging>=20.0 in /usr/local/lib/python3.7/dist-packages (from dask) (21.3)\n",
            "Collecting fsspec>=0.6.0\n",
            "  Downloading fsspec-2022.5.0-py3-none-any.whl (140 kB)\n",
            "\u001b[K     |████████████████████████████████| 140 kB 68.3 MB/s \n",
            "\u001b[?25hRequirement already satisfied: pyparsing!=3.0.5,>=2.0.2 in /usr/local/lib/python3.7/dist-packages (from packaging>=20.0->dask) (3.0.9)\n",
            "Collecting locket\n",
            "  Downloading locket-1.0.0-py2.py3-none-any.whl (4.4 kB)\n",
            "Collecting multipledispatch>=0.4.9\n",
            "  Downloading multipledispatch-0.6.0-py3-none-any.whl (11 kB)\n",
            "Requirement already satisfied: scipy in /usr/local/lib/python3.7/dist-packages (from dask_ml) (1.4.1)\n",
            "Requirement already satisfied: pandas>=0.24.2 in /usr/local/lib/python3.7/dist-packages (from dask_ml) (1.3.5)\n",
            "Collecting dask-glm>=0.2.0\n",
            "  Downloading dask_glm-0.2.0-py2.py3-none-any.whl (12 kB)\n",
            "Requirement already satisfied: numpy>=1.20.0 in /usr/local/lib/python3.7/dist-packages (from dask_ml) (1.21.6)\n",
            "Requirement already satisfied: numba>=0.51.0 in /usr/local/lib/python3.7/dist-packages (from dask_ml) (0.51.2)\n",
            "Requirement already satisfied: scikit-learn>=1.0.0 in /usr/local/lib/python3.7/dist-packages (from dask_ml) (1.0.2)\n",
            "Requirement already satisfied: psutil>=5.0 in /usr/local/lib/python3.7/dist-packages (from distributed) (5.4.8)\n",
            "Requirement already satisfied: setuptools in /usr/local/lib/python3.7/dist-packages (from distributed) (57.4.0)\n",
            "Requirement already satisfied: sortedcontainers!=2.0.0,!=2.0.1 in /usr/local/lib/python3.7/dist-packages (from distributed) (2.4.0)\n",
            "Requirement already satisfied: tblib>=1.6.0 in /usr/local/lib/python3.7/dist-packages (from distributed) (1.7.0)\n",
            "Requirement already satisfied: zict>=0.1.3 in /usr/local/lib/python3.7/dist-packages (from distributed) (2.2.0)\n",
            "Requirement already satisfied: tornado>=5 in /usr/local/lib/python3.7/dist-packages (from distributed) (5.1.1)\n",
            "Requirement already satisfied: msgpack>=0.6.0 in /usr/local/lib/python3.7/dist-packages (from distributed) (1.0.3)\n",
            "Requirement already satisfied: jinja2 in /usr/local/lib/python3.7/dist-packages (from distributed) (2.11.3)\n",
            "Requirement already satisfied: click>=6.6 in /usr/local/lib/python3.7/dist-packages (from distributed) (7.1.2)\n",
            "Collecting cloudpickle>=1.1.1\n",
            "  Downloading cloudpickle-2.1.0-py3-none-any.whl (25 kB)\n",
            "Requirement already satisfied: six in /usr/local/lib/python3.7/dist-packages (from multipledispatch>=0.4.9->dask_ml) (1.15.0)\n",
            "Requirement already satisfied: llvmlite<0.35,>=0.34.0.dev0 in /usr/local/lib/python3.7/dist-packages (from numba>=0.51.0->dask_ml) (0.34.0)\n",
            "Requirement already satisfied: pytz>=2017.3 in /usr/local/lib/python3.7/dist-packages (from pandas>=0.24.2->dask_ml) (2022.1)\n",
            "Requirement already satisfied: python-dateutil>=2.7.3 in /usr/local/lib/python3.7/dist-packages (from pandas>=0.24.2->dask_ml) (2.8.2)\n",
            "Requirement already satisfied: threadpoolctl>=2.0.0 in /usr/local/lib/python3.7/dist-packages (from scikit-learn>=1.0.0->dask_ml) (3.1.0)\n",
            "Requirement already satisfied: joblib>=0.11 in /usr/local/lib/python3.7/dist-packages (from scikit-learn>=1.0.0->dask_ml) (1.1.0)\n",
            "Requirement already satisfied: heapdict in /usr/local/lib/python3.7/dist-packages (from zict>=0.1.3->distributed) (1.0.1)\n",
            "Requirement already satisfied: MarkupSafe>=0.23 in /usr/local/lib/python3.7/dist-packages (from jinja2->distributed) (2.0.1)\n",
            "Installing collected packages: locket, pyyaml, partd, fsspec, cloudpickle, dask, multipledispatch, distributed, dask-glm, dask-ml\n",
            "  Attempting uninstall: pyyaml\n",
            "    Found existing installation: PyYAML 3.13\n",
            "    Uninstalling PyYAML-3.13:\n",
            "      Successfully uninstalled PyYAML-3.13\n",
            "  Attempting uninstall: cloudpickle\n",
            "    Found existing installation: cloudpickle 1.3.0\n",
            "    Uninstalling cloudpickle-1.3.0:\n",
            "      Successfully uninstalled cloudpickle-1.3.0\n",
            "  Attempting uninstall: dask\n",
            "    Found existing installation: dask 2.12.0\n",
            "    Uninstalling dask-2.12.0:\n",
            "      Successfully uninstalled dask-2.12.0\n",
            "  Attempting uninstall: distributed\n",
            "    Found existing installation: distributed 1.25.3\n",
            "    Uninstalling distributed-1.25.3:\n",
            "      Successfully uninstalled distributed-1.25.3\n",
            "\u001b[31mERROR: pip's dependency resolver does not currently take into account all the packages that are installed. This behaviour is the source of the following dependency conflicts.\n",
            "gym 0.17.3 requires cloudpickle<1.7.0,>=1.2.0, but you have cloudpickle 2.1.0 which is incompatible.\u001b[0m\n",
            "Successfully installed cloudpickle-2.1.0 dask-2022.2.0 dask-glm-0.2.0 dask-ml-2022.1.22 distributed-2022.2.0 fsspec-2022.5.0 locket-1.0.0 multipledispatch-0.6.0 partd-1.2.0 pyyaml-6.0\n"
          ]
        }
      ],
      "source": [
        "!pip install scikeras\n",
        "!pip install --upgrade dask dask_ml distributed"
      ]
    },
    {
      "cell_type": "code",
      "execution_count": 3,
      "metadata": {
        "id": "vn3gsUXxpbvr"
      },
      "outputs": [],
      "source": [
        "import os\n",
        "import imageio\n",
        "import distributed\n",
        "\n",
        "import matplotlib.pyplot as plt\n",
        "from matplotlib.patches import Patch\n",
        "\n",
        "import tensorflow as tf\n",
        "from tensorflow import keras\n",
        "from tensorflow.keras import layers\n",
        "\n",
        "import dask\n",
        "import dask.array as da\n",
        "from dask.distributed import Client\n",
        "\n",
        "# Initialize the Dask client\n",
        "client = Client()"
      ]
    },
    {
      "cell_type": "code",
      "execution_count": 4,
      "metadata": {
        "id": "LwisBqCapjhd"
      },
      "outputs": [],
      "source": [
        "# Read in data\n",
        "\n",
        "tif_lst = os.listdir('/content/gdrive/MyDrive/tif_data/2021')\n",
        "\n",
        "array_lst = []\n",
        "for year in os.listdir('/content/gdrive/MyDrive/tif_data'):\n",
        "    if year != '.DS_Store':\n",
        "        lazy_raster_lst = [dask.delayed(imageio.imread)('/content/gdrive/MyDrive/tif_data/' + year + '/' + tif) for tif in tif_lst]\n",
        "        raster_lst = [da.from_delayed(lazy_raster, shape=(40,40), dtype='int32') for lazy_raster in lazy_raster_lst]\n",
        "        raster_array = da.stack(raster_lst, axis=0)\n",
        "        array_lst.append(raster_array)\n",
        "    raw_dataset = da.stack(array_lst, axis=1)"
      ]
    },
    {
      "cell_type": "code",
      "execution_count": 5,
      "metadata": {
        "id": "AaEoxTalyckk"
      },
      "outputs": [],
      "source": [
        "# One-hot encode the data\n",
        "\n",
        "# This expands the number of channels for each raster from one to three\n",
        "\n",
        "# The first channel is equal to 1 if data is missing, 0 otherwise\n",
        "# The second channel is equal to 1 if no deforestation occurred, 0 otherwise\n",
        "# The third channel is equal to 1 if deforestation occurred, 0 otherwise\n",
        "\n",
        "dataset = (da.array([-1, 0, 1]) == da.stack([raw_dataset], axis=-1)).astype('int32')"
      ]
    },
    {
      "cell_type": "code",
      "execution_count": 6,
      "metadata": {
        "colab": {
          "base_uri": "https://localhost:8080/"
        },
        "id": "Ss9lWuOhLgVU",
        "outputId": "f7605c48-daeb-4c9a-e543-3bbd4b860f83"
      },
      "outputs": [
        {
          "name": "stdout",
          "output_type": "stream",
          "text": [
            "Dataset size: (20, 18, 40, 40, 3)\n",
            "Number of rasters per year: 20\n",
            "Number of years: 18\n",
            "Raster size: (40, 40, 3)\n"
          ]
        }
      ],
      "source": [
        "# Get the size of the dataset\n",
        "\n",
        "print('Dataset size:', dataset.shape)\n",
        "\n",
        "num_samples = dataset.shape[0]\n",
        "print('Number of rasters per year:', num_samples)\n",
        "\n",
        "num_frames = dataset.shape[1]\n",
        "print('Number of years:', num_frames)\n",
        "\n",
        "raster_size = dataset.shape[2:]\n",
        "print('Raster size:', raster_size)"
      ]
    },
    {
      "cell_type": "code",
      "execution_count": 17,
      "metadata": {
        "colab": {
          "base_uri": "https://localhost:8080/"
        },
        "id": "WHxYLR4ODfFQ",
        "outputId": "2f2d704f-0332-4386-dd95-451e14a13781"
      },
      "outputs": [
        {
          "name": "stdout",
          "output_type": "stream",
          "text": [
            "INFO:tensorflow:Using MirroredStrategy with devices ('/job:localhost/replica:0/task:0/device:GPU:0',)\n",
            "<class 'int'>\n"
          ]
        }
      ],
      "source": [
        "# Define the distribution strategy\n",
        "strategy = tf.distribute.MirroredStrategy()"
      ]
    },
    {
      "cell_type": "code",
      "execution_count": 8,
      "metadata": {
        "id": "3ai8YMMApwzO"
      },
      "outputs": [],
      "source": [
        "# Split into train and test sets (use indexing to optimize memory)\n",
        "train_prop = 0.9\n",
        "sample_indices = da.arange(dataset.shape[0])\n",
        "da.random.seed(123)\n",
        "da.random.permutation(sample_indices)\n",
        "train_indices = sample_indices[:int(train_prop * dataset.shape[0])]\n",
        "test_indices = sample_indices[int(train_prop * dataset.shape[0]):]\n",
        "train_dataset = dataset[train_indices]\n",
        "test_dataset = dataset[test_indices]"
      ]
    },
    {
      "cell_type": "code",
      "execution_count": 9,
      "metadata": {
        "id": "uNyqzqWmLsZf"
      },
      "outputs": [],
      "source": [
        "# Extract features and outcome variable\n",
        "# x is frames 0 to n-1, and y is frames 1 to n\n",
        "\n",
        "def split_x_y(data):\n",
        "    x = data[:, 0:data.shape[1]-1, :, :]\n",
        "    y = data[:, 1:data.shape[1], :, :]\n",
        "    return x, y\n",
        "\n",
        "x_train, y_train = split_x_y(train_dataset)\n",
        "x_test, y_test = split_x_y(test_dataset)"
      ]
    },
    {
      "cell_type": "code",
      "execution_count": 10,
      "metadata": {
        "colab": {
          "base_uri": "https://localhost:8080/"
        },
        "id": "RHCAdhMfqYoJ",
        "outputId": "6906531f-5aba-4a5d-c43f-f98456bb31d2"
      },
      "outputs": [
        {
          "name": "stdout",
          "output_type": "stream",
          "text": [
            "Training Feature Shape: (18, 17, 40, 40, 3), Training Outcome Shape: (18, 17, 40, 40, 3)\n",
            "Testing Feature Shape: (2, 17, 40, 40, 3), Testing Outcome Shape: (2, 17, 40, 40, 3)\n"
          ]
        }
      ],
      "source": [
        "# Get the size of the training and test sets\n",
        "\n",
        "print(\"Training Feature Shape: \" + str(x_train.shape) + \n",
        "      \", Training Outcome Shape: \" + str(y_train.shape))\n",
        "print(\"Testing Feature Shape: \" + str(x_test.shape) + \n",
        "      \", Testing Outcome Shape: \" + str(y_test.shape))"
      ]
    },
    {
      "cell_type": "code",
      "execution_count": 29,
      "metadata": {
        "id": "HOcbCmzlqc9l"
      },
      "outputs": [],
      "source": [
        "# Define hyperparameters (we can cross-validate these later)\n",
        "\n",
        "epochs = 50\n",
        "BATCH_SIZE_PER_REPLICA = 8\n",
        "BATCH_SIZE = BATCH_SIZE_PER_REPLICA * strategy.num_replicas_in_sync\n",
        "num_filters = 64"
      ]
    },
    {
      "cell_type": "code",
      "execution_count": 30,
      "metadata": {
        "colab": {
          "base_uri": "https://localhost:8080/"
        },
        "id": "EKbBJWSnN44W",
        "outputId": "0ba69afa-c771-42d9-c777-047f8b80caf6"
      },
      "outputs": [
        {
          "name": "stdout",
          "output_type": "stream",
          "text": [
            "<class 'int'>\n"
          ]
        }
      ],
      "source": [
        "print(type(BATCH_SIZE))"
      ]
    },
    {
      "cell_type": "code",
      "execution_count": 31,
      "metadata": {
        "colab": {
          "base_uri": "https://localhost:8080/"
        },
        "id": "T2vLnrTnB5Mk",
        "outputId": "d4da6d38-f04f-483a-92eb-66c8aca14fd2"
      },
      "outputs": [
        {
          "name": "stdout",
          "output_type": "stream",
          "text": [
            "INFO:tensorflow:Reduce to /job:localhost/replica:0/task:0/device:CPU:0 then broadcast to ('/job:localhost/replica:0/task:0/device:CPU:0',).\n",
            "INFO:tensorflow:Reduce to /job:localhost/replica:0/task:0/device:CPU:0 then broadcast to ('/job:localhost/replica:0/task:0/device:CPU:0',).\n",
            "INFO:tensorflow:Reduce to /job:localhost/replica:0/task:0/device:CPU:0 then broadcast to ('/job:localhost/replica:0/task:0/device:CPU:0',).\n",
            "INFO:tensorflow:Reduce to /job:localhost/replica:0/task:0/device:CPU:0 then broadcast to ('/job:localhost/replica:0/task:0/device:CPU:0',).\n",
            "INFO:tensorflow:Reduce to /job:localhost/replica:0/task:0/device:CPU:0 then broadcast to ('/job:localhost/replica:0/task:0/device:CPU:0',).\n",
            "INFO:tensorflow:Reduce to /job:localhost/replica:0/task:0/device:CPU:0 then broadcast to ('/job:localhost/replica:0/task:0/device:CPU:0',).\n",
            "INFO:tensorflow:Reduce to /job:localhost/replica:0/task:0/device:CPU:0 then broadcast to ('/job:localhost/replica:0/task:0/device:CPU:0',).\n",
            "INFO:tensorflow:Reduce to /job:localhost/replica:0/task:0/device:CPU:0 then broadcast to ('/job:localhost/replica:0/task:0/device:CPU:0',).\n",
            "INFO:tensorflow:Reduce to /job:localhost/replica:0/task:0/device:CPU:0 then broadcast to ('/job:localhost/replica:0/task:0/device:CPU:0',).\n",
            "INFO:tensorflow:Reduce to /job:localhost/replica:0/task:0/device:CPU:0 then broadcast to ('/job:localhost/replica:0/task:0/device:CPU:0',).\n"
          ]
        }
      ],
      "source": [
        "with strategy.scope():\n",
        "  # Define the CNN-LSTM architecture\n",
        "\n",
        "  inp = layers.Input(shape=(None, *x_train.shape[2:]))\n",
        "\n",
        "  # Construct three ConvLSTM2D layers with batch norm,\n",
        "  # followed by a Conv3D layer so that the output is\n",
        "  # the same shape as the original raster\n",
        "  x = layers.ConvLSTM2D(filters=num_filters,\n",
        "                        kernel_size=(5, 5),\n",
        "                        padding=\"same\",\n",
        "                        return_sequences=True,\n",
        "                        activation=\"relu\",)(inp)\n",
        "  x = layers.BatchNormalization()(x)\n",
        "  x = layers.ConvLSTM2D(filters=num_filters,\n",
        "                        kernel_size=(3, 3),\n",
        "                        padding=\"same\",\n",
        "                        return_sequences=True,\n",
        "                        activation=\"relu\",)(x)\n",
        "  x = layers.BatchNormalization()(x)\n",
        "  x = layers.ConvLSTM2D(filters=num_filters,\n",
        "                        kernel_size=(1, 1),\n",
        "                        padding=\"same\",\n",
        "                        return_sequences=True,\n",
        "                        activation=\"relu\",)(x)\n",
        "  x = layers.Conv3D(filters=3, \n",
        "                    kernel_size=(3, 3, 3), \n",
        "                    activation=\"softmax\", \n",
        "                    padding=\"same\")(x)\n",
        "\n",
        "  # Build and compile the model\n",
        "  model = keras.models.Model(inp, x)\n",
        "  model.compile(loss=keras.losses.binary_crossentropy,\n",
        "                optimizer=keras.optimizers.Adam())"
      ]
    },
    {
      "cell_type": "code",
      "execution_count": 32,
      "metadata": {
        "colab": {
          "base_uri": "https://localhost:8080/"
        },
        "id": "BwTAXVakqwoj",
        "outputId": "48921fa5-4fe9-4190-8631-30f297c79a5e"
      },
      "outputs": [
        {
          "name": "stdout",
          "output_type": "stream",
          "text": [
            "WARNING:tensorflow:Keras is training/fitting/evaluating on array-like data. Keras may not be optimized for this format, so if your input data format is supported by TensorFlow I/O (https://github.com/tensorflow/io) we recommend using that to load a Dataset instead.\n",
            "Epoch 1/50\n",
            "3/3 [==============================] - ETA: 0s - loss: 0.6058WARNING:tensorflow:Keras is training/fitting/evaluating on array-like data. Keras may not be optimized for this format, so if your input data format is supported by TensorFlow I/O (https://github.com/tensorflow/io) we recommend using that to load a Dataset instead.\n",
            "3/3 [==============================] - 31s 8s/step - loss: 0.6058 - val_loss: 0.6777 - lr: 0.0010\n",
            "Epoch 2/50\n",
            "3/3 [==============================] - 10s 4s/step - loss: 0.1460 - val_loss: 0.6523 - lr: 0.0010\n",
            "Epoch 3/50\n",
            "3/3 [==============================] - 10s 4s/step - loss: 0.0495 - val_loss: 0.6227 - lr: 0.0010\n",
            "Epoch 4/50\n",
            "3/3 [==============================] - 10s 4s/step - loss: 0.0373 - val_loss: 0.5960 - lr: 0.0010\n",
            "Epoch 5/50\n",
            "3/3 [==============================] - 10s 4s/step - loss: 0.0324 - val_loss: 0.5650 - lr: 0.0010\n",
            "Epoch 6/50\n",
            "3/3 [==============================] - 15s 7s/step - loss: 0.0311 - val_loss: 0.5002 - lr: 0.0010\n",
            "Epoch 7/50\n",
            "3/3 [==============================] - 10s 4s/step - loss: 0.0320 - val_loss: 0.4439 - lr: 0.0010\n",
            "Epoch 8/50\n",
            "3/3 [==============================] - 10s 5s/step - loss: 0.0300 - val_loss: 0.4453 - lr: 0.0010\n",
            "Epoch 9/50\n",
            "3/3 [==============================] - 10s 4s/step - loss: 0.0290 - val_loss: 0.4197 - lr: 0.0010\n",
            "Epoch 10/50\n",
            "3/3 [==============================] - 11s 5s/step - loss: 0.0283 - val_loss: 0.4302 - lr: 0.0010\n",
            "Epoch 11/50\n",
            "3/3 [==============================] - 16s 7s/step - loss: 0.0277 - val_loss: 0.4157 - lr: 0.0010\n",
            "Epoch 12/50\n",
            "3/3 [==============================] - 11s 5s/step - loss: 0.0272 - val_loss: 0.3995 - lr: 0.0010\n",
            "Epoch 13/50\n",
            "3/3 [==============================] - 14s 7s/step - loss: 0.0269 - val_loss: 0.3850 - lr: 0.0010\n",
            "Epoch 14/50\n",
            "3/3 [==============================] - 9s 4s/step - loss: 0.0268 - val_loss: 0.3854 - lr: 0.0010\n",
            "Epoch 15/50\n",
            "3/3 [==============================] - 10s 4s/step - loss: 0.0274 - val_loss: 0.3796 - lr: 0.0010\n",
            "Epoch 16/50\n",
            "3/3 [==============================] - 13s 6s/step - loss: 0.0262 - val_loss: 0.3287 - lr: 0.0010\n",
            "Epoch 17/50\n",
            "3/3 [==============================] - 10s 4s/step - loss: 0.0263 - val_loss: 0.3295 - lr: 0.0010\n",
            "Epoch 18/50\n",
            "3/3 [==============================] - 9s 4s/step - loss: 0.0256 - val_loss: 0.3299 - lr: 0.0010\n",
            "Epoch 19/50\n",
            "3/3 [==============================] - 11s 5s/step - loss: 0.0252 - val_loss: 0.3226 - lr: 0.0010\n",
            "Epoch 20/50\n",
            "3/3 [==============================] - 14s 6s/step - loss: 0.0246 - val_loss: 0.3152 - lr: 0.0010\n",
            "Epoch 21/50\n",
            "3/3 [==============================] - 11s 5s/step - loss: 0.0244 - val_loss: 0.2947 - lr: 0.0010\n",
            "Epoch 22/50\n",
            "3/3 [==============================] - 11s 5s/step - loss: 0.0230 - val_loss: 0.2774 - lr: 0.0010\n",
            "Epoch 23/50\n",
            "3/3 [==============================] - 10s 4s/step - loss: 0.0219 - val_loss: 0.2670 - lr: 0.0010\n",
            "Epoch 24/50\n",
            "3/3 [==============================] - 10s 5s/step - loss: 0.0209 - val_loss: 0.2558 - lr: 0.0010\n",
            "Epoch 25/50\n",
            "3/3 [==============================] - 11s 5s/step - loss: 0.0195 - val_loss: 0.2527 - lr: 0.0010\n",
            "Epoch 26/50\n",
            "3/3 [==============================] - 11s 5s/step - loss: 0.0173 - val_loss: 0.2472 - lr: 0.0010\n",
            "Epoch 27/50\n",
            "3/3 [==============================] - 10s 5s/step - loss: 0.0149 - val_loss: 0.2387 - lr: 0.0010\n",
            "Epoch 28/50\n",
            "3/3 [==============================] - 11s 5s/step - loss: 0.0142 - val_loss: 0.2289 - lr: 0.0010\n",
            "Epoch 29/50\n",
            "3/3 [==============================] - 11s 5s/step - loss: 0.0126 - val_loss: 0.2201 - lr: 0.0010\n",
            "Epoch 30/50\n",
            "3/3 [==============================] - 10s 4s/step - loss: 0.0122 - val_loss: 0.2111 - lr: 0.0010\n",
            "Epoch 31/50\n",
            "3/3 [==============================] - 10s 5s/step - loss: 0.0114 - val_loss: 0.2036 - lr: 0.0010\n",
            "Epoch 32/50\n",
            "3/3 [==============================] - 11s 5s/step - loss: 0.0114 - val_loss: 0.1980 - lr: 0.0010\n",
            "Epoch 33/50\n",
            "3/3 [==============================] - 11s 5s/step - loss: 0.0104 - val_loss: 0.1976 - lr: 0.0010\n",
            "Epoch 34/50\n",
            "3/3 [==============================] - 11s 5s/step - loss: 0.0101 - val_loss: 0.1941 - lr: 0.0010\n",
            "Epoch 35/50\n",
            "3/3 [==============================] - 11s 5s/step - loss: 0.0100 - val_loss: 0.1889 - lr: 0.0010\n",
            "Epoch 36/50\n",
            "3/3 [==============================] - 11s 5s/step - loss: 0.0091 - val_loss: 0.1840 - lr: 0.0010\n",
            "Epoch 37/50\n",
            "3/3 [==============================] - 11s 5s/step - loss: 0.0088 - val_loss: 0.1809 - lr: 0.0010\n",
            "Epoch 38/50\n",
            "3/3 [==============================] - 14s 7s/step - loss: 0.0080 - val_loss: 0.1755 - lr: 0.0010\n",
            "Epoch 39/50\n",
            "3/3 [==============================] - 14s 6s/step - loss: 0.0080 - val_loss: 0.1669 - lr: 0.0010\n",
            "Epoch 40/50\n",
            "3/3 [==============================] - 14s 7s/step - loss: 0.0074 - val_loss: 0.1606 - lr: 0.0010\n",
            "Epoch 41/50\n",
            "3/3 [==============================] - 11s 5s/step - loss: 0.0070 - val_loss: 0.1540 - lr: 0.0010\n",
            "Epoch 42/50\n",
            "3/3 [==============================] - 14s 6s/step - loss: 0.0069 - val_loss: 0.1481 - lr: 0.0010\n",
            "Epoch 43/50\n",
            "3/3 [==============================] - 12s 5s/step - loss: 0.0064 - val_loss: 0.1412 - lr: 0.0010\n",
            "Epoch 44/50\n",
            "3/3 [==============================] - 11s 5s/step - loss: 0.0062 - val_loss: 0.1358 - lr: 0.0010\n",
            "Epoch 45/50\n",
            "3/3 [==============================] - 13s 6s/step - loss: 0.0059 - val_loss: 0.1300 - lr: 0.0010\n",
            "Epoch 46/50\n",
            "3/3 [==============================] - 11s 5s/step - loss: 0.0057 - val_loss: 0.1243 - lr: 0.0010\n",
            "Epoch 47/50\n",
            "3/3 [==============================] - 10s 4s/step - loss: 0.0057 - val_loss: 0.1158 - lr: 0.0010\n",
            "Epoch 48/50\n",
            "3/3 [==============================] - 10s 4s/step - loss: 0.0060 - val_loss: 0.1138 - lr: 0.0010\n",
            "Epoch 49/50\n",
            "3/3 [==============================] - 9s 4s/step - loss: 0.0057 - val_loss: 0.1080 - lr: 0.0010\n",
            "Epoch 50/50\n",
            "3/3 [==============================] - 11s 5s/step - loss: 0.0049 - val_loss: 0.1004 - lr: 0.0010\n"
          ]
        },
        {
          "data": {
            "text/plain": [
              "<keras.callbacks.History at 0x7fbd1d508d50>"
            ]
          },
          "execution_count": 32,
          "metadata": {},
          "output_type": "execute_result"
        }
      ],
      "source": [
        "# Train the model\n",
        "\n",
        "# Define callbacks to improve training\n",
        "early_stopping = keras.callbacks.EarlyStopping(monitor=\"val_loss\", patience=10)\n",
        "reduce_lr = keras.callbacks.ReduceLROnPlateau(monitor=\"val_loss\", patience=5)\n",
        "\n",
        "# Fit the model to the training data\n",
        "model.fit(x_train,\n",
        "          y_train,\n",
        "          batch_size=BATCH_SIZE,\n",
        "          epochs=epochs,\n",
        "          validation_data=(x_test, y_test),\n",
        "          callbacks=[early_stopping, reduce_lr],)"
      ]
    },
    {
      "cell_type": "code",
      "execution_count": 33,
      "metadata": {
        "colab": {
          "base_uri": "https://localhost:8080/",
          "height": 397
        },
        "id": "SHlhCZD0rFO5",
        "outputId": "d8346864-6666-4c44-9714-5e98231f9759"
      },
      "outputs": [
        {
          "name": "stdout",
          "output_type": "stream",
          "text": [
            "WARNING:tensorflow:Keras is training/fitting/evaluating on array-like data. Keras may not be optimized for this format, so if your input data format is supported by TensorFlow I/O (https://github.com/tensorflow/io) we recommend using that to load a Dataset instead.\n",
            "WARNING:tensorflow:Keras is training/fitting/evaluating on array-like data. Keras may not be optimized for this format, so if your input data format is supported by TensorFlow I/O (https://github.com/tensorflow/io) we recommend using that to load a Dataset instead.\n",
            "WARNING:tensorflow:Keras is training/fitting/evaluating on array-like data. Keras may not be optimized for this format, so if your input data format is supported by TensorFlow I/O (https://github.com/tensorflow/io) we recommend using that to load a Dataset instead.\n",
            "WARNING:tensorflow:Keras is training/fitting/evaluating on array-like data. Keras may not be optimized for this format, so if your input data format is supported by TensorFlow I/O (https://github.com/tensorflow/io) we recommend using that to load a Dataset instead.\n",
            "WARNING:tensorflow:Keras is training/fitting/evaluating on array-like data. Keras may not be optimized for this format, so if your input data format is supported by TensorFlow I/O (https://github.com/tensorflow/io) we recommend using that to load a Dataset instead.\n",
            "WARNING:tensorflow:Keras is training/fitting/evaluating on array-like data. Keras may not be optimized for this format, so if your input data format is supported by TensorFlow I/O (https://github.com/tensorflow/io) we recommend using that to load a Dataset instead.\n",
            "WARNING:tensorflow:Keras is training/fitting/evaluating on array-like data. Keras may not be optimized for this format, so if your input data format is supported by TensorFlow I/O (https://github.com/tensorflow/io) we recommend using that to load a Dataset instead.\n",
            "WARNING:tensorflow:Keras is training/fitting/evaluating on array-like data. Keras may not be optimized for this format, so if your input data format is supported by TensorFlow I/O (https://github.com/tensorflow/io) we recommend using that to load a Dataset instead.\n",
            "WARNING:tensorflow:Keras is training/fitting/evaluating on array-like data. Keras may not be optimized for this format, so if your input data format is supported by TensorFlow I/O (https://github.com/tensorflow/io) we recommend using that to load a Dataset instead.\n"
          ]
        },
        {
          "data": {
            "image/png": "[encoded data removed]",
            "text/plain": [
              "<Figure size 1440x288 with 18 Axes>"
            ]
          },
          "metadata": {},
          "output_type": "display_data"
        }
      ],
      "source": [
        "# Visualize results\n",
        "\n",
        "import numpy as np # the model returns a prediction as a numpy array\n",
        "\n",
        "# Select a single, random raster from the test set\n",
        "example = test_dataset[da.random.choice(range(len(test_dataset)), size=1)[0]]\n",
        "\n",
        "# Split the frames into two parts\n",
        "idx = example.shape[0] // 2\n",
        "frames = example[:idx, ...]\n",
        "original_frames = example[idx:, ...]\n",
        "\n",
        "# Predict a new set of frames\n",
        "for _ in range(idx):\n",
        "    # Extract the model's prediction and post-process it.\n",
        "    new_prediction_probs = model.predict(da.stack([frames], axis=0))\n",
        "    new_prediction_probs = np.squeeze(new_prediction_probs, axis=0)\n",
        "    predicted_frame_probs = np.expand_dims(new_prediction_probs[-1, ...], axis=0)\n",
        "    predicted_frame = np.eye(predicted_frame_probs.shape[3]) \\\n",
        "      [predicted_frame_probs.argmax(axis=3)] # convert probablities to 0s and 1s\n",
        "    # Extend the set of prediction frames\n",
        "    frames = np.concatenate((frames, predicted_frame), axis=0)\n",
        "\n",
        "# Construct a figure to plot the original and predicted frames\n",
        "fig, axes = plt.subplots(2, idx, figsize=(20, 4))\n",
        "\n",
        "# Plot the original frames\n",
        "for i, ax in enumerate(axes[0]):\n",
        "    ax.imshow(da.squeeze(original_frames[i]).astype('float64'), cmap=\"gray\")\n",
        "    ax.set_yticks([])\n",
        "    ax.set_xticks([])\n",
        "    ax.set_title(f\"{2013 + i}\")\n",
        "    if i == (idx - 1):\n",
        "        legend = [Patch(facecolor='red', label='Missing'),\n",
        "                  Patch(facecolor='lime', label='Not Deforested'),\n",
        "                  Patch(facecolor='blue', label='Deforested')]\n",
        "        ax.legend(handles=legend, bbox_to_anchor=(2.5, 1), fontsize=12)\n",
        "    if i==0:\n",
        "        ax.set_ylabel(\"Actual\")\n",
        "\n",
        "# Plot the predicted frames\n",
        "new_frames = frames[idx:, ...]\n",
        "for i, ax in enumerate(axes[1]):\n",
        "    ax.imshow(np.squeeze(new_frames[i]), cmap=\"gray\")\n",
        "    ax.set_yticks([])\n",
        "    ax.set_xticks([])\n",
        "    if i==0:\n",
        "        ax.set_ylabel(\"Predicted\")\n",
        "\n",
        "# Display the figure\n",
        "plt.show()"
      ]
    }
  ],
  "metadata": {
    "accelerator": "GPU",
    "colab": {
      "collapsed_sections": [],
      "name": "dask_keras_gpu.ipynb",
      "provenance": []
    },
    "kernelspec": {
      "display_name": "Python 3",
      "name": "python3"
    },
    "language_info": {
      "name": "python"
    }
  },
  "nbformat": 4,
  "nbformat_minor": 0
}
